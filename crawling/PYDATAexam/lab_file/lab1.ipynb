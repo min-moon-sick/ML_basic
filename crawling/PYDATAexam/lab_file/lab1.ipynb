{
 "cells": [
  {
   "cell_type": "markdown",
   "id": "e9c6ae30-da6a-4e7e-ac25-7a92a7f9188e",
   "metadata": {},
   "source": [
    "다음에 제시된 URL 문자열로 요청하고 제시된 결과 화면과 같이 응답 바디(콘텐츠)를 출력하는 프로그램을 첫 번째 셀에는 urllib 패키지를 이용해서 구현하고 두 번째 셀에는 requests 패키지를 이용하여 구현하여 메일로 제출한다. 요청하려는 웹 페이지는 php 프로그램으로서 GET 방식을 지원하는 웹 서버 프로그램이다. 다음과 같이   query string을 추가하여 요청하면 그에 알맞는 결과가 응답된다.\n",
    "http://unico2013.dothome.co.kr/crawling/exercise.php"
   ]
  },
  {
   "cell_type": "markdown",
   "id": "856b97f3-9a6b-4593-a90f-e5d57f9f069b",
   "metadata": {},
   "source": [
    "#### 1. urllib 패키지를 활용"
   ]
  },
  {
   "cell_type": "code",
   "execution_count": 2,
   "id": "53537e21-438e-4fc7-84cc-a801fb4020ec",
   "metadata": {},
   "outputs": [
    {
     "name": "stdout",
     "output_type": "stream",
     "text": [
      "http://unico2013.dothome.co.kr/crawling/exercise.php?category=%EC%97%AD%EC%82%AC&page=25\n",
      "﻿<!DOCTYPE html>\n",
      "<html>  \n",
      "  <head>    \n",
      "   <meta charset=\"utf-8\">    \n",
      "   <title>TEST</title>  \n",
      "  </head>  \n",
      "  <body>   \n",
      "    <h1 style='color : red'>카테고리 : 역사</h1>\n",
      "    <h2 style='color : blue'>페이지 : 25</h2>   \n",
      "  </body>\n",
      "</html>\n"
     ]
    }
   ],
   "source": [
    "import urllib.request as urr\n",
    "import urllib.parse as urs\n",
    "\n",
    "# 쿼리 정의하여 인코딩\n",
    "params = urs.urlencode({'category':'역사', 'page' : 25})\n",
    "\n",
    "# url에 쿼리 추가\n",
    "url = 'http://unico2013.dothome.co.kr/crawling/exercise.php?%s' % params\n",
    "print(url)\n",
    "\n",
    "# url 열기\n",
    "f = urr.urlopen(url)\n",
    "\n",
    "# url 디코딩하여 읽기\n",
    "print(f.read().decode('utf-8'))"
   ]
  },
  {
   "cell_type": "markdown",
   "id": "5d85111c-740f-4fd4-80bc-50f217335477",
   "metadata": {},
   "source": [
    "#### 2. Requests 패키지를 활용"
   ]
  },
  {
   "cell_type": "code",
   "execution_count": 3,
   "id": "4246f9bf-865f-49d2-b6de-f77b65c12d07",
   "metadata": {},
   "outputs": [
    {
     "name": "stdout",
     "output_type": "stream",
     "text": [
      "http://unico2013.dothome.co.kr/crawling/exercise.php?category=%EC%97%AD%EC%82%AC&page=25\n",
      "﻿<!DOCTYPE html>\n",
      "<html>  \n",
      "  <head>    \n",
      "   <meta charset=\"utf-8\">    \n",
      "   <title>TEST</title>  \n",
      "  </head>  \n",
      "  <body>   \n",
      "    <h1 style='color : red'>카테고리 : 역사</h1>\n",
      "    <h2 style='color : blue'>페이지 : 25</h2>   \n",
      "  </body>\n",
      "</html>\n"
     ]
    }
   ],
   "source": [
    "import requests\n",
    "\n",
    "# 쿼리 정의\n",
    "dicdata = {'category':'역사', 'page' : 25}\n",
    "\n",
    "# url 선언\n",
    "urlstr = 'http://unico2013.dothome.co.kr/crawling/exercise.php'\n",
    "\n",
    "# url에 쿼리를 get\n",
    "r = requests.get(urlstr, params=dicdata)\n",
    "\n",
    "# 인코딩\n",
    "r.encoding = 'utf-8'\n",
    "\n",
    "# 출력\n",
    "print(r.url)\n",
    "print(r.text)"
   ]
  },
  {
   "cell_type": "code",
   "execution_count": null,
   "id": "9a16c648-a627-4767-93d0-6974f0caa037",
   "metadata": {},
   "outputs": [],
   "source": []
  }
 ],
 "metadata": {
  "kernelspec": {
   "display_name": "pydatavenv",
   "language": "python",
   "name": "pydatavenv"
  },
  "language_info": {
   "codemirror_mode": {
    "name": "ipython",
    "version": 3
   },
   "file_extension": ".py",
   "mimetype": "text/x-python",
   "name": "python",
   "nbconvert_exporter": "python",
   "pygments_lexer": "ipython3",
   "version": "3.8.12"
  }
 },
 "nbformat": 4,
 "nbformat_minor": 5
}
