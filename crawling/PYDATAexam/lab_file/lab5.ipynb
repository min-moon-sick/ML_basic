{
 "cells": [
  {
   "cell_type": "markdown",
   "id": "71158656-48c4-46ac-9972-8ff311fc90bd",
   "metadata": {},
   "source": [
    "[ 파이썬 기반의 동적 수집 실습(1) ]\n",
    "\n",
    "제출 파일명 : lab5.ipynb\n",
    "메일제목 : PYTHON-성명-lab5\n",
    "Selenium을 이용하여 크롬 브라우저를 기동시키고 네이버 홈 페이지에서 파이썬 이라는 검색어를 전달하여 검색요청하는 과정을 구현해 본다. 이 때 검색어를 입력하려면 검색어 입력상자의 WebElement 객체를 찾아야 하는데 이 때 다음에 제시한 3가지 방법으로 각각 구현하여 메일로 제출한다.\n",
    "- CSS 선택자 사용 : 첫 번째 셀\n",
    "- id 속성 사용 : 두 번째 셀  \n",
    "- class 속성 사용 : 세 번째 셀"
   ]
  },
  {
   "cell_type": "code",
   "execution_count": 1,
   "id": "c90f36a0-4fed-4cbb-8e1c-9b64f8889ef4",
   "metadata": {},
   "outputs": [],
   "source": [
    "from selenium import webdriver\n",
    "from selenium.webdriver.common.keys import Keys \n",
    "from selenium.webdriver.chrome.service import Service\n",
    "from webdriver_manager.chrome import ChromeDriverManager\n",
    "from selenium.webdriver.common.by import By"
   ]
  },
  {
   "cell_type": "code",
   "execution_count": 2,
   "id": "b91a1e26-33e8-4dae-ae47-8cdbb16dba02",
   "metadata": {},
   "outputs": [
    {
     "name": "stderr",
     "output_type": "stream",
     "text": [
      "\n",
      "\n",
      "====== WebDriver manager ======\n",
      "Current google-chrome version is 97.0.4692\n",
      "Get LATEST chromedriver version for 97.0.4692 google-chrome\n",
      "Driver [C:\\Users\\HPE\\.wdm\\drivers\\chromedriver\\win32\\97.0.4692.71\\chromedriver.exe] found in cache\n"
     ]
    },
    {
     "name": "stdout",
     "output_type": "stream",
     "text": [
      "WebDriver 객체 :  <class 'selenium.webdriver.chrome.webdriver.WebDriver'>\n"
     ]
    }
   ],
   "source": [
    "driver = webdriver.Chrome(service=Service(ChromeDriverManager().install()))\n",
    "print(\"WebDriver 객체 : \", type(driver))"
   ]
  },
  {
   "cell_type": "code",
   "execution_count": 4,
   "id": "09dec097-592c-46fd-b547-eb918b75d927",
   "metadata": {},
   "outputs": [],
   "source": [
    "driver.get('http://www.naver.com/') "
   ]
  },
  {
   "cell_type": "code",
   "execution_count": 14,
   "id": "41177381-de65-4745-b1e4-8a1cd8ae60e2",
   "metadata": {},
   "outputs": [
    {
     "name": "stdout",
     "output_type": "stream",
     "text": [
      "찾아온 태그 객체 :  <class 'selenium.webdriver.remote.webelement.WebElement'>\n"
     ]
    }
   ],
   "source": [
    "# 1. css 선택자 사용\n",
    "target=driver.find_element(By.CSS_SELECTOR, \"[name = 'query']\")\n",
    "print(\"찾아온 태그 객체 : \", type(target))\n",
    "target.send_keys('파이썬')"
   ]
  },
  {
   "cell_type": "code",
   "execution_count": 27,
   "id": "904cf938-3ada-4768-b47f-1db1db9e560c",
   "metadata": {},
   "outputs": [
    {
     "name": "stdout",
     "output_type": "stream",
     "text": [
      "찾아온 태그 객체 :  <class 'selenium.webdriver.remote.webelement.WebElement'>\n"
     ]
    }
   ],
   "source": [
    "# 2. id 속성 사용\n",
    "target=driver.find_element(by= By.ID, value = \"query\")\n",
    "print(\"찾아온 태그 객체 : \", type(target))\n",
    "target.send_keys('파이썬')"
   ]
  },
  {
   "cell_type": "code",
   "execution_count": 44,
   "id": "30b36593-6137-4128-a4bf-cd706ce9a953",
   "metadata": {},
   "outputs": [
    {
     "name": "stdout",
     "output_type": "stream",
     "text": [
      "찾아온 태그 객체 :  <class 'selenium.webdriver.remote.webelement.WebElement'>\n"
     ]
    }
   ],
   "source": [
    "# 3. class 속성\n",
    "target=driver.find_element(By.CLASS_NAME, \"input_text\")\n",
    "print(\"찾아온 태그 객체 : \", type(target))\n",
    "target.send_keys('파이썬')"
   ]
  },
  {
   "cell_type": "code",
   "execution_count": null,
   "id": "fd14f3f1-21f8-411b-9a00-60582553b4c7",
   "metadata": {},
   "outputs": [],
   "source": []
  }
 ],
 "metadata": {
  "kernelspec": {
   "display_name": "pydatavenv",
   "language": "python",
   "name": "pydatavenv"
  },
  "language_info": {
   "codemirror_mode": {
    "name": "ipython",
    "version": 3
   },
   "file_extension": ".py",
   "mimetype": "text/x-python",
   "name": "python",
   "nbconvert_exporter": "python",
   "pygments_lexer": "ipython3",
   "version": "3.8.12"
  }
 },
 "nbformat": 4,
 "nbformat_minor": 5
}
