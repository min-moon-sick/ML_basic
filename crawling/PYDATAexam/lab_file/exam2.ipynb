{
 "cells": [
  {
   "cell_type": "code",
   "execution_count": 17,
   "metadata": {
    "tags": []
   },
   "outputs": [],
   "source": [
    "# conda prompt 에 들어가서 \n",
    "# conda activate pydatavenv\n",
    "# pip install webdriver-manager\n",
    "from selenium import webdriver\n",
    "from selenium.webdriver.common.keys import Keys \n",
    "from selenium.webdriver.chrome.service import Service\n",
    "from webdriver_manager.chrome import ChromeDriverManager\n",
    "from selenium.webdriver.common.by import By"
   ]
  },
  {
   "cell_type": "code",
   "execution_count": 18,
   "metadata": {},
   "outputs": [
    {
     "name": "stderr",
     "output_type": "stream",
     "text": [
      "\n",
      "\n",
      "====== WebDriver manager ======\n",
      "Current google-chrome version is 97.0.4692\n",
      "Get LATEST chromedriver version for 97.0.4692 google-chrome\n",
      "Driver [C:\\Users\\HPE\\.wdm\\drivers\\chromedriver\\win32\\97.0.4692.71\\chromedriver.exe] found in cache\n"
     ]
    },
    {
     "name": "stdout",
     "output_type": "stream",
     "text": [
      "WebDriver 객체 :  <class 'selenium.webdriver.chrome.webdriver.WebDriver'>\n"
     ]
    }
   ],
   "source": [
    "driver = webdriver.Chrome(service=Service(ChromeDriverManager().install()))\n",
    "print(\"WebDriver 객체 : \", type(driver))"
   ]
  },
  {
   "cell_type": "code",
   "execution_count": 19,
   "metadata": {
    "tags": []
   },
   "outputs": [],
   "source": [
    "driver.get('http://www.google.com/ncr') "
   ]
  },
  {
   "cell_type": "code",
   "execution_count": 20,
   "metadata": {
    "tags": []
   },
   "outputs": [
    {
     "name": "stdout",
     "output_type": "stream",
     "text": [
      "찾아온 태그 객체 :  <class 'selenium.webdriver.remote.webelement.WebElement'>\n"
     ]
    }
   ],
   "source": [
    "target=driver.find_element(By.CSS_SELECTOR, \"[name = 'q']\")\n",
    "print(\"찾아온 태그 객체 : \", type(target))\n",
    "target.send_keys('파이썬')"
   ]
  },
  {
   "cell_type": "code",
   "execution_count": 21,
   "metadata": {
    "tags": []
   },
   "outputs": [],
   "source": [
    "target.send_keys(Keys.ENTER)"
   ]
  },
  {
   "cell_type": "code",
   "execution_count": 22,
   "metadata": {
    "tags": []
   },
   "outputs": [],
   "source": [
    "driver.quit()"
   ]
  },
  {
   "cell_type": "code",
   "execution_count": 23,
   "metadata": {
    "tags": []
   },
   "outputs": [
    {
     "name": "stdout",
     "output_type": "stream",
     "text": [
      "[]\n"
     ]
    }
   ],
   "source": [
    "# java script로 설계된 데이터는 크롤링되지 않음\n",
    "import urllib.request\n",
    "from bs4 import BeautifulSoup\n",
    "#서버 접속\n",
    "server = urllib.request.urlopen(\"https://www.istarbucks.co.kr/store/store_map.do\")\n",
    "\n",
    "response =server.read().decode('utf-8')\n",
    "bs = BeautifulSoup(response, \"html.parser\")\n",
    "li = bs.find_all('li', class_=\"quickResultLstCon\")\n",
    "print(li)"
   ]
  },
  {
   "cell_type": "code",
   "execution_count": 24,
   "metadata": {
    "tags": []
   },
   "outputs": [
    {
     "name": "stderr",
     "output_type": "stream",
     "text": [
      "\n",
      "\n",
      "====== WebDriver manager ======\n",
      "Current google-chrome version is 97.0.4692\n",
      "Get LATEST chromedriver version for 97.0.4692 google-chrome\n",
      "Driver [C:\\Users\\HPE\\.wdm\\drivers\\chromedriver\\win32\\97.0.4692.71\\chromedriver.exe] found in cache\n"
     ]
    },
    {
     "name": "stdout",
     "output_type": "stream",
     "text": [
      "<class 'NoneType'>\n"
     ]
    },
    {
     "ename": "AttributeError",
     "evalue": "'NoneType' object has no attribute 'text'",
     "output_type": "error",
     "traceback": [
      "\u001b[1;31m---------------------------------------------------------------------------\u001b[0m",
      "\u001b[1;31mAttributeError\u001b[0m                            Traceback (most recent call last)",
      "\u001b[1;32m~\\AppData\\Local\\Temp/ipykernel_7864/3959902398.py\u001b[0m in \u001b[0;36m<module>\u001b[1;34m\u001b[0m\n\u001b[0;32m      5\u001b[0m \u001b[1;33m\u001b[0m\u001b[0m\n\u001b[0;32m      6\u001b[0m \u001b[0mprint\u001b[0m\u001b[1;33m(\u001b[0m\u001b[0mtype\u001b[0m\u001b[1;33m(\u001b[0m\u001b[0mtarget\u001b[0m\u001b[1;33m)\u001b[0m\u001b[1;33m)\u001b[0m\u001b[1;33m\u001b[0m\u001b[1;33m\u001b[0m\u001b[0m\n\u001b[1;32m----> 7\u001b[1;33m \u001b[0mprint\u001b[0m\u001b[1;33m(\u001b[0m\u001b[0mtype\u001b[0m\u001b[1;33m(\u001b[0m\u001b[0mtarget\u001b[0m\u001b[1;33m.\u001b[0m\u001b[0mtext\u001b[0m\u001b[1;33m)\u001b[0m\u001b[1;33m)\u001b[0m\u001b[1;33m\u001b[0m\u001b[1;33m\u001b[0m\u001b[0m\n\u001b[0m\u001b[0;32m      8\u001b[0m \u001b[0mprint\u001b[0m\u001b[1;33m(\u001b[0m\u001b[0mtarget\u001b[0m\u001b[1;33m.\u001b[0m\u001b[0mtext\u001b[0m\u001b[1;33m)\u001b[0m\u001b[1;33m\u001b[0m\u001b[1;33m\u001b[0m\u001b[0m\n\u001b[0;32m      9\u001b[0m \u001b[1;32mimport\u001b[0m \u001b[0mtime\u001b[0m\u001b[1;33m\u001b[0m\u001b[1;33m\u001b[0m\u001b[0m\n",
      "\u001b[1;31mAttributeError\u001b[0m: 'NoneType' object has no attribute 'text'"
     ]
    }
   ],
   "source": [
    "driver = webdriver.Chrome(service=Service(ChromeDriverManager().install()))\n",
    "driver.implicitly_wait(3)\n",
    "driver.get(\"https://www.istarbucks.co.kr/store/store_map.do\")\n",
    "target=driver.find_element(By.CLASS_NAME, \"quickResultLstCon\")\n",
    "\n",
    "print(type(target))\n",
    "print(type(target.text))\n",
    "print(target.text)\n",
    "import time\n",
    "time.sleep(6)\n",
    "driver.quit()"
   ]
  },
  {
   "cell_type": "code",
   "execution_count": 25,
   "metadata": {},
   "outputs": [
    {
     "name": "stderr",
     "output_type": "stream",
     "text": [
      "\n",
      "\n",
      "====== WebDriver manager ======\n",
      "Current google-chrome version is 97.0.4692\n",
      "Get LATEST chromedriver version for 97.0.4692 google-chrome\n",
      "Driver [C:\\Users\\HPE\\.wdm\\drivers\\chromedriver\\win32\\97.0.4692.71\\chromedriver.exe] found in cache\n"
     ]
    }
   ],
   "source": [
    "driver = webdriver.Chrome(service=Service(ChromeDriverManager().install()))\n",
    "driver.implicitly_wait(3)\n",
    "driver.get('http://unico2013.dothome.co.kr/crawling/exercise_css.html')"
   ]
  },
  {
   "cell_type": "code",
   "execution_count": 11,
   "metadata": {},
   "outputs": [
    {
     "name": "stdout",
     "output_type": "stream",
     "text": [
      "-----------------------------\n"
     ]
    },
    {
     "ename": "UnexpectedAlertPresentException",
     "evalue": "Alert Text: 해당 조건과 일치하는 매장 정보가 존재하지 않습니다.\nMessage: unexpected alert open: {Alert text : 해당 조건과 일치하는 매장 정보가 존재하지 않습니다.}\n  (Session info: chrome=97.0.4692.71)\nStacktrace:\nBacktrace:\n\tOrdinal0 [0x0088FDC3+2555331]\n\tOrdinal0 [0x008277F1+2127857]\n\tOrdinal0 [0x00722E08+1060360]\n\tOrdinal0 [0x0077743B+1406011]\n\tOrdinal0 [0x00767976+1341814]\n\tOrdinal0 [0x007436B6+1193654]\n\tOrdinal0 [0x00744546+1197382]\n\tGetHandleVerifier [0x00A29622+1619522]\n\tGetHandleVerifier [0x00AD882C+2336844]\n\tGetHandleVerifier [0x009223E1+541697]\n\tGetHandleVerifier [0x00921443+537699]\n\tOrdinal0 [0x0082D18E+2150798]\n\tOrdinal0 [0x00831518+2168088]\n\tOrdinal0 [0x00831660+2168416]\n\tOrdinal0 [0x0083B330+2208560]\n\tBaseThreadInitThunk [0x767FFA29+25]\n\tRtlGetAppContainerNamedObjectPath [0x77947A9E+286]\n\tRtlGetAppContainerNamedObjectPath [0x77947A6E+238]\n",
     "output_type": "error",
     "traceback": [
      "\u001b[1;31m---------------------------------------------------------------------------\u001b[0m",
      "\u001b[1;31mUnexpectedAlertPresentException\u001b[0m           Traceback (most recent call last)",
      "\u001b[1;32m~\\AppData\\Local\\Temp/ipykernel_7864/3789224406.py\u001b[0m in \u001b[0;36m<module>\u001b[1;34m\u001b[0m\n\u001b[0;32m      1\u001b[0m \u001b[0mprint\u001b[0m\u001b[1;33m(\u001b[0m\u001b[1;34m'-----------------------------'\u001b[0m\u001b[1;33m)\u001b[0m\u001b[1;33m\u001b[0m\u001b[1;33m\u001b[0m\u001b[0m\n\u001b[1;32m----> 2\u001b[1;33m \u001b[0mbyTagName\u001b[0m \u001b[1;33m=\u001b[0m \u001b[0mdriver\u001b[0m\u001b[1;33m.\u001b[0m\u001b[0mfind_element\u001b[0m\u001b[1;33m(\u001b[0m\u001b[0mBy\u001b[0m\u001b[1;33m.\u001b[0m\u001b[0mTAG_NAME\u001b[0m\u001b[1;33m,\u001b[0m \u001b[1;34m'h1'\u001b[0m\u001b[1;33m)\u001b[0m\u001b[1;33m\u001b[0m\u001b[1;33m\u001b[0m\u001b[0m\n\u001b[0m\u001b[0;32m      3\u001b[0m \u001b[0mprint\u001b[0m\u001b[1;33m(\u001b[0m\u001b[0mtype\u001b[0m\u001b[1;33m(\u001b[0m\u001b[0mbyTagName\u001b[0m\u001b[1;33m)\u001b[0m\u001b[1;33m)\u001b[0m\u001b[1;33m\u001b[0m\u001b[1;33m\u001b[0m\u001b[0m\n\u001b[0;32m      4\u001b[0m \u001b[0mprint\u001b[0m\u001b[1;33m(\u001b[0m\u001b[0mbyTagName\u001b[0m\u001b[1;33m.\u001b[0m\u001b[0mtag_name\u001b[0m\u001b[1;33m,\u001b[0m \u001b[1;34m\":\"\u001b[0m\u001b[1;33m,\u001b[0m \u001b[0mbyTagName\u001b[0m\u001b[1;33m.\u001b[0m\u001b[0mtext\u001b[0m\u001b[1;33m)\u001b[0m\u001b[1;33m\u001b[0m\u001b[1;33m\u001b[0m\u001b[0m\n\u001b[0;32m      5\u001b[0m \u001b[0mprint\u001b[0m\u001b[1;33m(\u001b[0m\u001b[1;34m'-----------------------------'\u001b[0m\u001b[1;33m)\u001b[0m\u001b[1;33m\u001b[0m\u001b[1;33m\u001b[0m\u001b[0m\n",
      "\u001b[1;32mC:\\ProgramData\\Anaconda3\\envs\\pydatavenv\\lib\\site-packages\\selenium\\webdriver\\remote\\webdriver.py\u001b[0m in \u001b[0;36mfind_element\u001b[1;34m(self, by, value)\u001b[0m\n\u001b[0;32m   1242\u001b[0m             \u001b[0mvalue\u001b[0m \u001b[1;33m=\u001b[0m \u001b[1;34m'[name=\"%s\"]'\u001b[0m \u001b[1;33m%\u001b[0m \u001b[0mvalue\u001b[0m\u001b[1;33m\u001b[0m\u001b[1;33m\u001b[0m\u001b[0m\n\u001b[0;32m   1243\u001b[0m \u001b[1;33m\u001b[0m\u001b[0m\n\u001b[1;32m-> 1244\u001b[1;33m         return self.execute(Command.FIND_ELEMENT, {\n\u001b[0m\u001b[0;32m   1245\u001b[0m             \u001b[1;34m'using'\u001b[0m\u001b[1;33m:\u001b[0m \u001b[0mby\u001b[0m\u001b[1;33m,\u001b[0m\u001b[1;33m\u001b[0m\u001b[1;33m\u001b[0m\u001b[0m\n\u001b[0;32m   1246\u001b[0m             'value': value})['value']\n",
      "\u001b[1;32mC:\\ProgramData\\Anaconda3\\envs\\pydatavenv\\lib\\site-packages\\selenium\\webdriver\\remote\\webdriver.py\u001b[0m in \u001b[0;36mexecute\u001b[1;34m(self, driver_command, params)\u001b[0m\n\u001b[0;32m    422\u001b[0m         \u001b[0mresponse\u001b[0m \u001b[1;33m=\u001b[0m \u001b[0mself\u001b[0m\u001b[1;33m.\u001b[0m\u001b[0mcommand_executor\u001b[0m\u001b[1;33m.\u001b[0m\u001b[0mexecute\u001b[0m\u001b[1;33m(\u001b[0m\u001b[0mdriver_command\u001b[0m\u001b[1;33m,\u001b[0m \u001b[0mparams\u001b[0m\u001b[1;33m)\u001b[0m\u001b[1;33m\u001b[0m\u001b[1;33m\u001b[0m\u001b[0m\n\u001b[0;32m    423\u001b[0m         \u001b[1;32mif\u001b[0m \u001b[0mresponse\u001b[0m\u001b[1;33m:\u001b[0m\u001b[1;33m\u001b[0m\u001b[1;33m\u001b[0m\u001b[0m\n\u001b[1;32m--> 424\u001b[1;33m             \u001b[0mself\u001b[0m\u001b[1;33m.\u001b[0m\u001b[0merror_handler\u001b[0m\u001b[1;33m.\u001b[0m\u001b[0mcheck_response\u001b[0m\u001b[1;33m(\u001b[0m\u001b[0mresponse\u001b[0m\u001b[1;33m)\u001b[0m\u001b[1;33m\u001b[0m\u001b[1;33m\u001b[0m\u001b[0m\n\u001b[0m\u001b[0;32m    425\u001b[0m             response['value'] = self._unwrap_value(\n\u001b[0;32m    426\u001b[0m                 response.get('value', None))\n",
      "\u001b[1;32mC:\\ProgramData\\Anaconda3\\envs\\pydatavenv\\lib\\site-packages\\selenium\\webdriver\\remote\\errorhandler.py\u001b[0m in \u001b[0;36mcheck_response\u001b[1;34m(self, response)\u001b[0m\n\u001b[0;32m    244\u001b[0m             \u001b[1;32melif\u001b[0m \u001b[1;34m'alert'\u001b[0m \u001b[1;32min\u001b[0m \u001b[0mvalue\u001b[0m\u001b[1;33m:\u001b[0m\u001b[1;33m\u001b[0m\u001b[1;33m\u001b[0m\u001b[0m\n\u001b[0;32m    245\u001b[0m                 \u001b[0malert_text\u001b[0m \u001b[1;33m=\u001b[0m \u001b[0mvalue\u001b[0m\u001b[1;33m[\u001b[0m\u001b[1;34m'alert'\u001b[0m\u001b[1;33m]\u001b[0m\u001b[1;33m.\u001b[0m\u001b[0mget\u001b[0m\u001b[1;33m(\u001b[0m\u001b[1;34m'text'\u001b[0m\u001b[1;33m)\u001b[0m\u001b[1;33m\u001b[0m\u001b[1;33m\u001b[0m\u001b[0m\n\u001b[1;32m--> 246\u001b[1;33m             \u001b[1;32mraise\u001b[0m \u001b[0mexception_class\u001b[0m\u001b[1;33m(\u001b[0m\u001b[0mmessage\u001b[0m\u001b[1;33m,\u001b[0m \u001b[0mscreen\u001b[0m\u001b[1;33m,\u001b[0m \u001b[0mstacktrace\u001b[0m\u001b[1;33m,\u001b[0m \u001b[0malert_text\u001b[0m\u001b[1;33m)\u001b[0m  \u001b[1;31m# type: ignore[call-arg]  # mypy is not smart enough here\u001b[0m\u001b[1;33m\u001b[0m\u001b[1;33m\u001b[0m\u001b[0m\n\u001b[0m\u001b[0;32m    247\u001b[0m         \u001b[1;32mraise\u001b[0m \u001b[0mexception_class\u001b[0m\u001b[1;33m(\u001b[0m\u001b[0mmessage\u001b[0m\u001b[1;33m,\u001b[0m \u001b[0mscreen\u001b[0m\u001b[1;33m,\u001b[0m \u001b[0mstacktrace\u001b[0m\u001b[1;33m)\u001b[0m\u001b[1;33m\u001b[0m\u001b[1;33m\u001b[0m\u001b[0m\n\u001b[0;32m    248\u001b[0m \u001b[1;33m\u001b[0m\u001b[0m\n",
      "\u001b[1;31mUnexpectedAlertPresentException\u001b[0m: Alert Text: 해당 조건과 일치하는 매장 정보가 존재하지 않습니다.\nMessage: unexpected alert open: {Alert text : 해당 조건과 일치하는 매장 정보가 존재하지 않습니다.}\n  (Session info: chrome=97.0.4692.71)\nStacktrace:\nBacktrace:\n\tOrdinal0 [0x0088FDC3+2555331]\n\tOrdinal0 [0x008277F1+2127857]\n\tOrdinal0 [0x00722E08+1060360]\n\tOrdinal0 [0x0077743B+1406011]\n\tOrdinal0 [0x00767976+1341814]\n\tOrdinal0 [0x007436B6+1193654]\n\tOrdinal0 [0x00744546+1197382]\n\tGetHandleVerifier [0x00A29622+1619522]\n\tGetHandleVerifier [0x00AD882C+2336844]\n\tGetHandleVerifier [0x009223E1+541697]\n\tGetHandleVerifier [0x00921443+537699]\n\tOrdinal0 [0x0082D18E+2150798]\n\tOrdinal0 [0x00831518+2168088]\n\tOrdinal0 [0x00831660+2168416]\n\tOrdinal0 [0x0083B330+2208560]\n\tBaseThreadInitThunk [0x767FFA29+25]\n\tRtlGetAppContainerNamedObjectPath [0x77947A9E+286]\n\tRtlGetAppContainerNamedObjectPath [0x77947A6E+238]\n"
     ]
    }
   ],
   "source": [
    "print('-----------------------------')\n",
    "byTagName = driver.find_element(By.TAG_NAME, 'h1')\n",
    "print(type(byTagName))\n",
    "print(byTagName.tag_name, \":\", byTagName.text)\n",
    "print('-----------------------------')\n",
    "byTagNames = driver.find_elements(By.TAG_NAME, 'h2')\n",
    "print(type(byTagNames))\n",
    "for tagName in byTagNames :\n",
    "   print(tagName.tag_name, \":\", tagName.text)\n",
    "#driver.quit()"
   ]
  },
  {
   "cell_type": "code",
   "execution_count": 12,
   "metadata": {},
   "outputs": [
    {
     "ename": "NoSuchElementException",
     "evalue": "Message: no such element: Unable to locate element: {\"method\":\"css selector\",\"selector\":\".subtitle\"}\n  (Session info: chrome=97.0.4692.71)\nStacktrace:\nBacktrace:\n\tOrdinal0 [0x0088FDC3+2555331]\n\tOrdinal0 [0x008277F1+2127857]\n\tOrdinal0 [0x00722E08+1060360]\n\tOrdinal0 [0x0074E49E+1238174]\n\tOrdinal0 [0x0074E69B+1238683]\n\tOrdinal0 [0x00779252+1413714]\n\tOrdinal0 [0x00767B54+1342292]\n\tOrdinal0 [0x007775FA+1406458]\n\tOrdinal0 [0x00767976+1341814]\n\tOrdinal0 [0x007436B6+1193654]\n\tOrdinal0 [0x00744546+1197382]\n\tGetHandleVerifier [0x00A29622+1619522]\n\tGetHandleVerifier [0x00AD882C+2336844]\n\tGetHandleVerifier [0x009223E1+541697]\n\tGetHandleVerifier [0x00921443+537699]\n\tOrdinal0 [0x0082D18E+2150798]\n\tOrdinal0 [0x00831518+2168088]\n\tOrdinal0 [0x00831660+2168416]\n\tOrdinal0 [0x0083B330+2208560]\n\tBaseThreadInitThunk [0x767FFA29+25]\n\tRtlGetAppContainerNamedObjectPath [0x77947A9E+286]\n\tRtlGetAppContainerNamedObjectPath [0x77947A6E+238]\n",
     "output_type": "error",
     "traceback": [
      "\u001b[1;31m---------------------------------------------------------------------------\u001b[0m",
      "\u001b[1;31mNoSuchElementException\u001b[0m                    Traceback (most recent call last)",
      "\u001b[1;32m~\\AppData\\Local\\Temp/ipykernel_7864/861839994.py\u001b[0m in \u001b[0;36m<module>\u001b[1;34m\u001b[0m\n\u001b[1;32m----> 1\u001b[1;33m \u001b[0mbyClassName\u001b[0m \u001b[1;33m=\u001b[0m \u001b[0mdriver\u001b[0m\u001b[1;33m.\u001b[0m\u001b[0mfind_element\u001b[0m\u001b[1;33m(\u001b[0m\u001b[0mBy\u001b[0m\u001b[1;33m.\u001b[0m\u001b[0mCLASS_NAME\u001b[0m\u001b[1;33m,\u001b[0m \u001b[1;34m'subtitle'\u001b[0m\u001b[1;33m)\u001b[0m\u001b[1;33m\u001b[0m\u001b[1;33m\u001b[0m\u001b[0m\n\u001b[0m\u001b[0;32m      2\u001b[0m \u001b[0mprint\u001b[0m\u001b[1;33m(\u001b[0m\u001b[0mtype\u001b[0m\u001b[1;33m(\u001b[0m\u001b[0mbyClassName\u001b[0m\u001b[1;33m)\u001b[0m\u001b[1;33m)\u001b[0m\u001b[1;33m\u001b[0m\u001b[1;33m\u001b[0m\u001b[0m\n\u001b[0;32m      3\u001b[0m \u001b[0mprint\u001b[0m\u001b[1;33m(\u001b[0m\u001b[0mbyClassName\u001b[0m\u001b[1;33m.\u001b[0m\u001b[0mtag_name\u001b[0m\u001b[1;33m,\u001b[0m \u001b[1;34m\":\"\u001b[0m\u001b[1;33m,\u001b[0m \u001b[0mbyClassName\u001b[0m\u001b[1;33m.\u001b[0m\u001b[0mtext\u001b[0m\u001b[1;33m)\u001b[0m\u001b[1;33m\u001b[0m\u001b[1;33m\u001b[0m\u001b[0m\n\u001b[0;32m      4\u001b[0m \u001b[0mprint\u001b[0m\u001b[1;33m(\u001b[0m\u001b[1;34m'-----------------------------'\u001b[0m\u001b[1;33m)\u001b[0m\u001b[1;33m\u001b[0m\u001b[1;33m\u001b[0m\u001b[0m\n\u001b[0;32m      5\u001b[0m \u001b[0mbyClassNames\u001b[0m \u001b[1;33m=\u001b[0m \u001b[0mdriver\u001b[0m\u001b[1;33m.\u001b[0m\u001b[0mfind_elements\u001b[0m\u001b[1;33m(\u001b[0m\u001b[0mBy\u001b[0m\u001b[1;33m.\u001b[0m\u001b[0mCLASS_NAME\u001b[0m\u001b[1;33m,\u001b[0m \u001b[1;34m'subtitle'\u001b[0m\u001b[1;33m)\u001b[0m\u001b[1;33m\u001b[0m\u001b[1;33m\u001b[0m\u001b[0m\n",
      "\u001b[1;32mC:\\ProgramData\\Anaconda3\\envs\\pydatavenv\\lib\\site-packages\\selenium\\webdriver\\remote\\webdriver.py\u001b[0m in \u001b[0;36mfind_element\u001b[1;34m(self, by, value)\u001b[0m\n\u001b[0;32m   1242\u001b[0m             \u001b[0mvalue\u001b[0m \u001b[1;33m=\u001b[0m \u001b[1;34m'[name=\"%s\"]'\u001b[0m \u001b[1;33m%\u001b[0m \u001b[0mvalue\u001b[0m\u001b[1;33m\u001b[0m\u001b[1;33m\u001b[0m\u001b[0m\n\u001b[0;32m   1243\u001b[0m \u001b[1;33m\u001b[0m\u001b[0m\n\u001b[1;32m-> 1244\u001b[1;33m         return self.execute(Command.FIND_ELEMENT, {\n\u001b[0m\u001b[0;32m   1245\u001b[0m             \u001b[1;34m'using'\u001b[0m\u001b[1;33m:\u001b[0m \u001b[0mby\u001b[0m\u001b[1;33m,\u001b[0m\u001b[1;33m\u001b[0m\u001b[1;33m\u001b[0m\u001b[0m\n\u001b[0;32m   1246\u001b[0m             'value': value})['value']\n",
      "\u001b[1;32mC:\\ProgramData\\Anaconda3\\envs\\pydatavenv\\lib\\site-packages\\selenium\\webdriver\\remote\\webdriver.py\u001b[0m in \u001b[0;36mexecute\u001b[1;34m(self, driver_command, params)\u001b[0m\n\u001b[0;32m    422\u001b[0m         \u001b[0mresponse\u001b[0m \u001b[1;33m=\u001b[0m \u001b[0mself\u001b[0m\u001b[1;33m.\u001b[0m\u001b[0mcommand_executor\u001b[0m\u001b[1;33m.\u001b[0m\u001b[0mexecute\u001b[0m\u001b[1;33m(\u001b[0m\u001b[0mdriver_command\u001b[0m\u001b[1;33m,\u001b[0m \u001b[0mparams\u001b[0m\u001b[1;33m)\u001b[0m\u001b[1;33m\u001b[0m\u001b[1;33m\u001b[0m\u001b[0m\n\u001b[0;32m    423\u001b[0m         \u001b[1;32mif\u001b[0m \u001b[0mresponse\u001b[0m\u001b[1;33m:\u001b[0m\u001b[1;33m\u001b[0m\u001b[1;33m\u001b[0m\u001b[0m\n\u001b[1;32m--> 424\u001b[1;33m             \u001b[0mself\u001b[0m\u001b[1;33m.\u001b[0m\u001b[0merror_handler\u001b[0m\u001b[1;33m.\u001b[0m\u001b[0mcheck_response\u001b[0m\u001b[1;33m(\u001b[0m\u001b[0mresponse\u001b[0m\u001b[1;33m)\u001b[0m\u001b[1;33m\u001b[0m\u001b[1;33m\u001b[0m\u001b[0m\n\u001b[0m\u001b[0;32m    425\u001b[0m             response['value'] = self._unwrap_value(\n\u001b[0;32m    426\u001b[0m                 response.get('value', None))\n",
      "\u001b[1;32mC:\\ProgramData\\Anaconda3\\envs\\pydatavenv\\lib\\site-packages\\selenium\\webdriver\\remote\\errorhandler.py\u001b[0m in \u001b[0;36mcheck_response\u001b[1;34m(self, response)\u001b[0m\n\u001b[0;32m    245\u001b[0m                 \u001b[0malert_text\u001b[0m \u001b[1;33m=\u001b[0m \u001b[0mvalue\u001b[0m\u001b[1;33m[\u001b[0m\u001b[1;34m'alert'\u001b[0m\u001b[1;33m]\u001b[0m\u001b[1;33m.\u001b[0m\u001b[0mget\u001b[0m\u001b[1;33m(\u001b[0m\u001b[1;34m'text'\u001b[0m\u001b[1;33m)\u001b[0m\u001b[1;33m\u001b[0m\u001b[1;33m\u001b[0m\u001b[0m\n\u001b[0;32m    246\u001b[0m             \u001b[1;32mraise\u001b[0m \u001b[0mexception_class\u001b[0m\u001b[1;33m(\u001b[0m\u001b[0mmessage\u001b[0m\u001b[1;33m,\u001b[0m \u001b[0mscreen\u001b[0m\u001b[1;33m,\u001b[0m \u001b[0mstacktrace\u001b[0m\u001b[1;33m,\u001b[0m \u001b[0malert_text\u001b[0m\u001b[1;33m)\u001b[0m  \u001b[1;31m# type: ignore[call-arg]  # mypy is not smart enough here\u001b[0m\u001b[1;33m\u001b[0m\u001b[1;33m\u001b[0m\u001b[0m\n\u001b[1;32m--> 247\u001b[1;33m         \u001b[1;32mraise\u001b[0m \u001b[0mexception_class\u001b[0m\u001b[1;33m(\u001b[0m\u001b[0mmessage\u001b[0m\u001b[1;33m,\u001b[0m \u001b[0mscreen\u001b[0m\u001b[1;33m,\u001b[0m \u001b[0mstacktrace\u001b[0m\u001b[1;33m)\u001b[0m\u001b[1;33m\u001b[0m\u001b[1;33m\u001b[0m\u001b[0m\n\u001b[0m\u001b[0;32m    248\u001b[0m \u001b[1;33m\u001b[0m\u001b[0m\n\u001b[0;32m    249\u001b[0m     \u001b[1;32mdef\u001b[0m \u001b[0m_value_or_default\u001b[0m\u001b[1;33m(\u001b[0m\u001b[0mself\u001b[0m\u001b[1;33m,\u001b[0m \u001b[0mobj\u001b[0m\u001b[1;33m:\u001b[0m \u001b[0mMapping\u001b[0m\u001b[1;33m[\u001b[0m\u001b[0m_KT\u001b[0m\u001b[1;33m,\u001b[0m \u001b[0m_VT\u001b[0m\u001b[1;33m]\u001b[0m\u001b[1;33m,\u001b[0m \u001b[0mkey\u001b[0m\u001b[1;33m:\u001b[0m \u001b[0m_KT\u001b[0m\u001b[1;33m,\u001b[0m \u001b[0mdefault\u001b[0m\u001b[1;33m:\u001b[0m \u001b[0m_VT\u001b[0m\u001b[1;33m)\u001b[0m \u001b[1;33m->\u001b[0m \u001b[0m_VT\u001b[0m\u001b[1;33m:\u001b[0m\u001b[1;33m\u001b[0m\u001b[1;33m\u001b[0m\u001b[0m\n",
      "\u001b[1;31mNoSuchElementException\u001b[0m: Message: no such element: Unable to locate element: {\"method\":\"css selector\",\"selector\":\".subtitle\"}\n  (Session info: chrome=97.0.4692.71)\nStacktrace:\nBacktrace:\n\tOrdinal0 [0x0088FDC3+2555331]\n\tOrdinal0 [0x008277F1+2127857]\n\tOrdinal0 [0x00722E08+1060360]\n\tOrdinal0 [0x0074E49E+1238174]\n\tOrdinal0 [0x0074E69B+1238683]\n\tOrdinal0 [0x00779252+1413714]\n\tOrdinal0 [0x00767B54+1342292]\n\tOrdinal0 [0x007775FA+1406458]\n\tOrdinal0 [0x00767976+1341814]\n\tOrdinal0 [0x007436B6+1193654]\n\tOrdinal0 [0x00744546+1197382]\n\tGetHandleVerifier [0x00A29622+1619522]\n\tGetHandleVerifier [0x00AD882C+2336844]\n\tGetHandleVerifier [0x009223E1+541697]\n\tGetHandleVerifier [0x00921443+537699]\n\tOrdinal0 [0x0082D18E+2150798]\n\tOrdinal0 [0x00831518+2168088]\n\tOrdinal0 [0x00831660+2168416]\n\tOrdinal0 [0x0083B330+2208560]\n\tBaseThreadInitThunk [0x767FFA29+25]\n\tRtlGetAppContainerNamedObjectPath [0x77947A9E+286]\n\tRtlGetAppContainerNamedObjectPath [0x77947A6E+238]\n"
     ]
    }
   ],
   "source": [
    "byClassName = driver.find_element(By.CLASS_NAME, 'subtitle')\n",
    "print(type(byClassName))\n",
    "print(byClassName.tag_name, \":\", byClassName.text)\n",
    "print('-----------------------------')\n",
    "byClassNames = driver.find_elements(By.CLASS_NAME, 'subtitle')\n",
    "print(type(byClassNames))\n",
    "for className in byClassNames :\n",
    "   print(className.tag_name, \":\", className.text)\n",
    "#driver.quit()\n"
   ]
  },
  {
   "cell_type": "code",
   "execution_count": null,
   "metadata": {},
   "outputs": [],
   "source": [
    "byId = driver.find_element(By.ID, 'btype')\n",
    "print(type(byId))\n",
    "print(byId.tag_name, \":\", byId.text)\n",
    "print('-----------------------------')\n",
    "byLinkText = driver.find_element(By.LINK_TEXT, '파이썬 학습 사이트')\n",
    "print(type(byLinkText))\n",
    "print(byLinkText.tag_name, \":\", byLinkText.text)\n",
    "print('-----------------------------')\n",
    "byPLinkText = driver.find_elements(By.PARTIAL_LINK_TEXT, '사이트')\n",
    "print(type(byPLinkText))\n",
    "for linkText in byPLinkText :\n",
    "   print(linkText.tag_name, \":\", linkText.text)\n",
    "#driver.quit()"
   ]
  },
  {
   "cell_type": "code",
   "execution_count": null,
   "metadata": {},
   "outputs": [],
   "source": [
    "byCss1 = driver.find_element(By.CSS_SELECTOR, 'section>h2')\n",
    "print(type(byCss1))\n",
    "print(byCss1.tag_name, \":\", byCss1.text)\n",
    "print('-----------------------------')\n",
    "byCss2 = driver.find_element(By.CSS_SELECTOR, 'aside>h2')\n",
    "print(type(byCss2))\n",
    "print(byCss2.tag_name, \":\", byCss2.text)\n",
    "print('-----------------------------')\n",
    "byCss3 = driver.find_element(By.CSS_SELECTOR, 'body > section > article > ul > li:nth-child(3)')\n",
    "print(type(byCss3))\n",
    "print(byCss3.tag_name, \":\", byCss3.text)\n",
    "print('-----------------------------')\n",
    "byCss4 = driver.find_elements(By.CSS_SELECTOR, 'ul>li.atype')\n",
    "print(type(byCss4))\n",
    "for byCss in byCss4 :\n",
    "   print(byCss.tag_name, \":\", byCss.text)\n",
    "#driver.quit()"
   ]
  },
  {
   "cell_type": "code",
   "execution_count": 13,
   "metadata": {},
   "outputs": [
    {
     "ename": "NoSuchElementException",
     "evalue": "Message: no such element: Unable to locate element: {\"method\":\"xpath\",\"selector\":\"//*[@id=\"f_subtitle\"]\"}\n  (Session info: chrome=97.0.4692.71)\nStacktrace:\nBacktrace:\n\tOrdinal0 [0x0088FDC3+2555331]\n\tOrdinal0 [0x008277F1+2127857]\n\tOrdinal0 [0x00722E08+1060360]\n\tOrdinal0 [0x0074E49E+1238174]\n\tOrdinal0 [0x0074E69B+1238683]\n\tOrdinal0 [0x00779252+1413714]\n\tOrdinal0 [0x00767B54+1342292]\n\tOrdinal0 [0x007775FA+1406458]\n\tOrdinal0 [0x00767976+1341814]\n\tOrdinal0 [0x007436B6+1193654]\n\tOrdinal0 [0x00744546+1197382]\n\tGetHandleVerifier [0x00A29622+1619522]\n\tGetHandleVerifier [0x00AD882C+2336844]\n\tGetHandleVerifier [0x009223E1+541697]\n\tGetHandleVerifier [0x00921443+537699]\n\tOrdinal0 [0x0082D18E+2150798]\n\tOrdinal0 [0x00831518+2168088]\n\tOrdinal0 [0x00831660+2168416]\n\tOrdinal0 [0x0083B330+2208560]\n\tBaseThreadInitThunk [0x767FFA29+25]\n\tRtlGetAppContainerNamedObjectPath [0x77947A9E+286]\n\tRtlGetAppContainerNamedObjectPath [0x77947A6E+238]\n",
     "output_type": "error",
     "traceback": [
      "\u001b[1;31m---------------------------------------------------------------------------\u001b[0m",
      "\u001b[1;31mNoSuchElementException\u001b[0m                    Traceback (most recent call last)",
      "\u001b[1;32m~\\AppData\\Local\\Temp/ipykernel_7864/517617142.py\u001b[0m in \u001b[0;36m<module>\u001b[1;34m\u001b[0m\n\u001b[1;32m----> 1\u001b[1;33m \u001b[0mbyXpath1\u001b[0m \u001b[1;33m=\u001b[0m \u001b[0mdriver\u001b[0m\u001b[1;33m.\u001b[0m\u001b[0mfind_element\u001b[0m\u001b[1;33m(\u001b[0m\u001b[0mBy\u001b[0m\u001b[1;33m.\u001b[0m\u001b[0mXPATH\u001b[0m\u001b[1;33m,\u001b[0m \u001b[1;34m'//*[@id=\"f_subtitle\"]'\u001b[0m\u001b[1;33m)\u001b[0m\u001b[1;33m\u001b[0m\u001b[1;33m\u001b[0m\u001b[0m\n\u001b[0m\u001b[0;32m      2\u001b[0m \u001b[0mprint\u001b[0m\u001b[1;33m(\u001b[0m\u001b[0mtype\u001b[0m\u001b[1;33m(\u001b[0m\u001b[0mbyXpath1\u001b[0m\u001b[1;33m)\u001b[0m\u001b[1;33m)\u001b[0m\u001b[1;33m\u001b[0m\u001b[1;33m\u001b[0m\u001b[0m\n\u001b[0;32m      3\u001b[0m \u001b[0mprint\u001b[0m\u001b[1;33m(\u001b[0m\u001b[0mbyXpath1\u001b[0m\u001b[1;33m.\u001b[0m\u001b[0mtag_name\u001b[0m\u001b[1;33m,\u001b[0m \u001b[1;34m\":\"\u001b[0m\u001b[1;33m,\u001b[0m \u001b[0mbyXpath1\u001b[0m\u001b[1;33m.\u001b[0m\u001b[0mtext\u001b[0m\u001b[1;33m)\u001b[0m\u001b[1;33m\u001b[0m\u001b[1;33m\u001b[0m\u001b[0m\n\u001b[0;32m      4\u001b[0m \u001b[0mprint\u001b[0m\u001b[1;33m(\u001b[0m\u001b[1;34m'-----------------------------'\u001b[0m\u001b[1;33m)\u001b[0m\u001b[1;33m\u001b[0m\u001b[1;33m\u001b[0m\u001b[0m\n\u001b[0;32m      5\u001b[0m \u001b[0mbyXpath2\u001b[0m \u001b[1;33m=\u001b[0m \u001b[0mdriver\u001b[0m\u001b[1;33m.\u001b[0m\u001b[0mfind_element\u001b[0m\u001b[1;33m(\u001b[0m\u001b[0mBy\u001b[0m\u001b[1;33m.\u001b[0m\u001b[0mXPATH\u001b[0m\u001b[1;33m,\u001b[0m \u001b[1;34m'/html/body/section/article/ul/li[3]'\u001b[0m\u001b[1;33m)\u001b[0m\u001b[1;33m\u001b[0m\u001b[1;33m\u001b[0m\u001b[0m\n",
      "\u001b[1;32mC:\\ProgramData\\Anaconda3\\envs\\pydatavenv\\lib\\site-packages\\selenium\\webdriver\\remote\\webdriver.py\u001b[0m in \u001b[0;36mfind_element\u001b[1;34m(self, by, value)\u001b[0m\n\u001b[0;32m   1242\u001b[0m             \u001b[0mvalue\u001b[0m \u001b[1;33m=\u001b[0m \u001b[1;34m'[name=\"%s\"]'\u001b[0m \u001b[1;33m%\u001b[0m \u001b[0mvalue\u001b[0m\u001b[1;33m\u001b[0m\u001b[1;33m\u001b[0m\u001b[0m\n\u001b[0;32m   1243\u001b[0m \u001b[1;33m\u001b[0m\u001b[0m\n\u001b[1;32m-> 1244\u001b[1;33m         return self.execute(Command.FIND_ELEMENT, {\n\u001b[0m\u001b[0;32m   1245\u001b[0m             \u001b[1;34m'using'\u001b[0m\u001b[1;33m:\u001b[0m \u001b[0mby\u001b[0m\u001b[1;33m,\u001b[0m\u001b[1;33m\u001b[0m\u001b[1;33m\u001b[0m\u001b[0m\n\u001b[0;32m   1246\u001b[0m             'value': value})['value']\n",
      "\u001b[1;32mC:\\ProgramData\\Anaconda3\\envs\\pydatavenv\\lib\\site-packages\\selenium\\webdriver\\remote\\webdriver.py\u001b[0m in \u001b[0;36mexecute\u001b[1;34m(self, driver_command, params)\u001b[0m\n\u001b[0;32m    422\u001b[0m         \u001b[0mresponse\u001b[0m \u001b[1;33m=\u001b[0m \u001b[0mself\u001b[0m\u001b[1;33m.\u001b[0m\u001b[0mcommand_executor\u001b[0m\u001b[1;33m.\u001b[0m\u001b[0mexecute\u001b[0m\u001b[1;33m(\u001b[0m\u001b[0mdriver_command\u001b[0m\u001b[1;33m,\u001b[0m \u001b[0mparams\u001b[0m\u001b[1;33m)\u001b[0m\u001b[1;33m\u001b[0m\u001b[1;33m\u001b[0m\u001b[0m\n\u001b[0;32m    423\u001b[0m         \u001b[1;32mif\u001b[0m \u001b[0mresponse\u001b[0m\u001b[1;33m:\u001b[0m\u001b[1;33m\u001b[0m\u001b[1;33m\u001b[0m\u001b[0m\n\u001b[1;32m--> 424\u001b[1;33m             \u001b[0mself\u001b[0m\u001b[1;33m.\u001b[0m\u001b[0merror_handler\u001b[0m\u001b[1;33m.\u001b[0m\u001b[0mcheck_response\u001b[0m\u001b[1;33m(\u001b[0m\u001b[0mresponse\u001b[0m\u001b[1;33m)\u001b[0m\u001b[1;33m\u001b[0m\u001b[1;33m\u001b[0m\u001b[0m\n\u001b[0m\u001b[0;32m    425\u001b[0m             response['value'] = self._unwrap_value(\n\u001b[0;32m    426\u001b[0m                 response.get('value', None))\n",
      "\u001b[1;32mC:\\ProgramData\\Anaconda3\\envs\\pydatavenv\\lib\\site-packages\\selenium\\webdriver\\remote\\errorhandler.py\u001b[0m in \u001b[0;36mcheck_response\u001b[1;34m(self, response)\u001b[0m\n\u001b[0;32m    245\u001b[0m                 \u001b[0malert_text\u001b[0m \u001b[1;33m=\u001b[0m \u001b[0mvalue\u001b[0m\u001b[1;33m[\u001b[0m\u001b[1;34m'alert'\u001b[0m\u001b[1;33m]\u001b[0m\u001b[1;33m.\u001b[0m\u001b[0mget\u001b[0m\u001b[1;33m(\u001b[0m\u001b[1;34m'text'\u001b[0m\u001b[1;33m)\u001b[0m\u001b[1;33m\u001b[0m\u001b[1;33m\u001b[0m\u001b[0m\n\u001b[0;32m    246\u001b[0m             \u001b[1;32mraise\u001b[0m \u001b[0mexception_class\u001b[0m\u001b[1;33m(\u001b[0m\u001b[0mmessage\u001b[0m\u001b[1;33m,\u001b[0m \u001b[0mscreen\u001b[0m\u001b[1;33m,\u001b[0m \u001b[0mstacktrace\u001b[0m\u001b[1;33m,\u001b[0m \u001b[0malert_text\u001b[0m\u001b[1;33m)\u001b[0m  \u001b[1;31m# type: ignore[call-arg]  # mypy is not smart enough here\u001b[0m\u001b[1;33m\u001b[0m\u001b[1;33m\u001b[0m\u001b[0m\n\u001b[1;32m--> 247\u001b[1;33m         \u001b[1;32mraise\u001b[0m \u001b[0mexception_class\u001b[0m\u001b[1;33m(\u001b[0m\u001b[0mmessage\u001b[0m\u001b[1;33m,\u001b[0m \u001b[0mscreen\u001b[0m\u001b[1;33m,\u001b[0m \u001b[0mstacktrace\u001b[0m\u001b[1;33m)\u001b[0m\u001b[1;33m\u001b[0m\u001b[1;33m\u001b[0m\u001b[0m\n\u001b[0m\u001b[0;32m    248\u001b[0m \u001b[1;33m\u001b[0m\u001b[0m\n\u001b[0;32m    249\u001b[0m     \u001b[1;32mdef\u001b[0m \u001b[0m_value_or_default\u001b[0m\u001b[1;33m(\u001b[0m\u001b[0mself\u001b[0m\u001b[1;33m,\u001b[0m \u001b[0mobj\u001b[0m\u001b[1;33m:\u001b[0m \u001b[0mMapping\u001b[0m\u001b[1;33m[\u001b[0m\u001b[0m_KT\u001b[0m\u001b[1;33m,\u001b[0m \u001b[0m_VT\u001b[0m\u001b[1;33m]\u001b[0m\u001b[1;33m,\u001b[0m \u001b[0mkey\u001b[0m\u001b[1;33m:\u001b[0m \u001b[0m_KT\u001b[0m\u001b[1;33m,\u001b[0m \u001b[0mdefault\u001b[0m\u001b[1;33m:\u001b[0m \u001b[0m_VT\u001b[0m\u001b[1;33m)\u001b[0m \u001b[1;33m->\u001b[0m \u001b[0m_VT\u001b[0m\u001b[1;33m:\u001b[0m\u001b[1;33m\u001b[0m\u001b[1;33m\u001b[0m\u001b[0m\n",
      "\u001b[1;31mNoSuchElementException\u001b[0m: Message: no such element: Unable to locate element: {\"method\":\"xpath\",\"selector\":\"//*[@id=\"f_subtitle\"]\"}\n  (Session info: chrome=97.0.4692.71)\nStacktrace:\nBacktrace:\n\tOrdinal0 [0x0088FDC3+2555331]\n\tOrdinal0 [0x008277F1+2127857]\n\tOrdinal0 [0x00722E08+1060360]\n\tOrdinal0 [0x0074E49E+1238174]\n\tOrdinal0 [0x0074E69B+1238683]\n\tOrdinal0 [0x00779252+1413714]\n\tOrdinal0 [0x00767B54+1342292]\n\tOrdinal0 [0x007775FA+1406458]\n\tOrdinal0 [0x00767976+1341814]\n\tOrdinal0 [0x007436B6+1193654]\n\tOrdinal0 [0x00744546+1197382]\n\tGetHandleVerifier [0x00A29622+1619522]\n\tGetHandleVerifier [0x00AD882C+2336844]\n\tGetHandleVerifier [0x009223E1+541697]\n\tGetHandleVerifier [0x00921443+537699]\n\tOrdinal0 [0x0082D18E+2150798]\n\tOrdinal0 [0x00831518+2168088]\n\tOrdinal0 [0x00831660+2168416]\n\tOrdinal0 [0x0083B330+2208560]\n\tBaseThreadInitThunk [0x767FFA29+25]\n\tRtlGetAppContainerNamedObjectPath [0x77947A9E+286]\n\tRtlGetAppContainerNamedObjectPath [0x77947A6E+238]\n"
     ]
    }
   ],
   "source": [
    "byXpath1 = driver.find_element(By.XPATH, '//*[@id=\"f_subtitle\"]')\n",
    "print(type(byXpath1))\n",
    "print(byXpath1.tag_name, \":\", byXpath1.text)\n",
    "print('-----------------------------')\n",
    "byXpath2 = driver.find_element(By.XPATH, '/html/body/section/article/ul/li[3]')\n",
    "print(type(byXpath2))\n",
    "print(byXpath2.tag_name, \":\", byXpath2.text)\n",
    "print('-----------------------------')\n",
    "byXpath3 = driver.find_elements(By.XPATH, '//ul/li[@class=\"atype\"]')\n",
    "print(type(byXpath3))\n",
    "for byXpath in byXpath3 :\n",
    "   print(byXpath.tag_name, \":\", byXpath.text)\n",
    "#driver.quit()"
   ]
  },
  {
   "cell_type": "code",
   "execution_count": null,
   "metadata": {},
   "outputs": [],
   "source": [
    "byXpath1 = driver.find_element(By.XPATH, '//div/img')\n",
    "print(type(byXpath1))\n",
    "print(byXpath1.tag_name, \":\", byXpath1.get_attribute('src'))\n",
    "print('-----------------------------')\n",
    "byXpath2 = driver.find_elements(By.XPATH, '/html/body/header/nav/a')\n",
    "print(type(byXpath2))\n",
    "for byXpath in byXpath2 :\n",
    "   print(byXpath.tag_name, \":\", byXpath.get_attribute('href'))\n",
    "driver.quit()"
   ]
  },
  {
   "cell_type": "code",
   "execution_count": 27,
   "metadata": {
    "tags": []
   },
   "outputs": [
    {
     "name": "stderr",
     "output_type": "stream",
     "text": [
      "\n",
      "\n",
      "====== WebDriver manager ======\n",
      "Current google-chrome version is 97.0.4692\n",
      "Get LATEST chromedriver version for 97.0.4692 google-chrome\n",
      "Driver [C:\\Users\\HPE\\.wdm\\drivers\\chromedriver\\win32\\97.0.4692.71\\chromedriver.exe] found in cache\n"
     ]
    }
   ],
   "source": [
    "# 이 예제는 시간이 좀 걸림\n",
    "driver = webdriver.Chrome(service=Service(ChromeDriverManager().install()))\n",
    "driver.implicitly_wait(3)\n",
    "\n",
    "driver.get(\"http://www.yes24.com/Product/goods/40936880\")\n",
    "import time\n",
    "temp_list = []\n",
    "time.sleep(3)\n",
    "stopFlag = False\n",
    "while True :\n",
    "  for n in range(4, 13) :\n",
    "    linkurl = '#infoset_reviewContentList > div.review_sort.sortBot > div.review_sortLft > div > a:nth-child('+str(n)+')'\n",
    "    linkNum = driver.find_element(By.CSS_SELECTOR, linkurl)\n",
    "    linkNum.click()   \n",
    "    time.sleep(2)\n",
    "    readLinks = driver.find_elements(By.CSS_SELECTOR, '#infoset_reviewContentList span.review_more')\n",
    "    ##infoset_reviewContentList > div:nth-child(4) > div.reviewInfoBot.crop > a > div > span\n",
    "    for readlink in readLinks :\n",
    "      #readlink.click()\n",
    "      driver.execute_script(\"arguments[0].click();\", readlink)\n",
    "      time.sleep(3)\n",
    "\n",
    "    reviewList = driver.find_elements(By.CSS_SELECTOR, '#infoset_reviewContentList div.reviewInfoBot.origin div.review_cont')\n",
    "    time.sleep(2)\n",
    "\n",
    "    for review in reviewList :    \n",
    "      temp_list.append(review.text)\n",
    "    \n",
    "    if len(reviewList) < 5 :\n",
    "      stopFlag = True\n",
    "      break\n",
    "      \n",
    "  if stopFlag == True :\n",
    "    break\n",
    "  nextPage = '#infoset_reviewContentList > div.review_sort.sortBot > div.review_sortLft > div > a.bgYUI.next'\n",
    "  linkNum = driver.find_element(By.CSS_SELECTOR, nextPage)\n",
    "  linkNum.click()\n",
    "  time.sleep(2)\n",
    "wfile = open(\"C:/Users/HPE/Documents/machine_learning_basic/PYDATAexam/output/yes24file.txt\",\"w\", encoding=\"utf-8\") \n",
    "wfile.writelines(temp_list) \n",
    "wfile.close()\n",
    "\n",
    "#driver.quit()\n"
   ]
  },
  {
   "cell_type": "code",
   "execution_count": 28,
   "metadata": {
    "tags": []
   },
   "outputs": [
    {
     "ename": "WebDriverException",
     "evalue": "Message: chrome not reachable\n  (Session info: chrome=97.0.4692.71)\nStacktrace:\nBacktrace:\n\tOrdinal0 [0x0088FDC3+2555331]\n\tOrdinal0 [0x008277F1+2127857]\n\tOrdinal0 [0x00722CD0+1060048]\n\tOrdinal0 [0x00717BE2+1014754]\n\tOrdinal0 [0x007183E8+1016808]\n\tOrdinal0 [0x00719C02+1022978]\n\tOrdinal0 [0x00713AB9+998073]\n\tOrdinal0 [0x00724040+1065024]\n\tOrdinal0 [0x00776DC2+1404354]\n\tOrdinal0 [0x00767976+1341814]\n\tOrdinal0 [0x007436B6+1193654]\n\tOrdinal0 [0x00744546+1197382]\n\tGetHandleVerifier [0x00A29622+1619522]\n\tGetHandleVerifier [0x00AD882C+2336844]\n\tGetHandleVerifier [0x009223E1+541697]\n\tGetHandleVerifier [0x00921443+537699]\n\tOrdinal0 [0x0082D18E+2150798]\n\tOrdinal0 [0x00831518+2168088]\n\tOrdinal0 [0x00831660+2168416]\n\tOrdinal0 [0x0083B330+2208560]\n\tBaseThreadInitThunk [0x767FFA29+25]\n\tRtlGetAppContainerNamedObjectPath [0x77947A9E+286]\n\tRtlGetAppContainerNamedObjectPath [0x77947A6E+238]\n",
     "output_type": "error",
     "traceback": [
      "\u001b[1;31m---------------------------------------------------------------------------\u001b[0m",
      "\u001b[1;31mWebDriverException\u001b[0m                        Traceback (most recent call last)",
      "\u001b[1;32m~\\AppData\\Local\\Temp/ipykernel_7864/1298245945.py\u001b[0m in \u001b[0;36m<module>\u001b[1;34m\u001b[0m\n\u001b[0;32m      1\u001b[0m \u001b[1;31m# 앞 예제가 수행되는거 확인후에 실행\u001b[0m\u001b[1;33m\u001b[0m\u001b[1;33m\u001b[0m\u001b[1;33m\u001b[0m\u001b[0m\n\u001b[1;32m----> 2\u001b[1;33m \u001b[0mdriver\u001b[0m\u001b[1;33m.\u001b[0m\u001b[0mget\u001b[0m\u001b[1;33m(\u001b[0m\u001b[1;34m'http://www.python.org/'\u001b[0m\u001b[1;33m)\u001b[0m\u001b[1;33m\u001b[0m\u001b[1;33m\u001b[0m\u001b[0m\n\u001b[0m",
      "\u001b[1;32mC:\\ProgramData\\Anaconda3\\envs\\pydatavenv\\lib\\site-packages\\selenium\\webdriver\\remote\\webdriver.py\u001b[0m in \u001b[0;36mget\u001b[1;34m(self, url)\u001b[0m\n\u001b[0;32m    434\u001b[0m         \u001b[0mLoads\u001b[0m \u001b[0ma\u001b[0m \u001b[0mweb\u001b[0m \u001b[0mpage\u001b[0m \u001b[1;32min\u001b[0m \u001b[0mthe\u001b[0m \u001b[0mcurrent\u001b[0m \u001b[0mbrowser\u001b[0m \u001b[0msession\u001b[0m\u001b[1;33m.\u001b[0m\u001b[1;33m\u001b[0m\u001b[1;33m\u001b[0m\u001b[0m\n\u001b[0;32m    435\u001b[0m         \"\"\"\n\u001b[1;32m--> 436\u001b[1;33m         \u001b[0mself\u001b[0m\u001b[1;33m.\u001b[0m\u001b[0mexecute\u001b[0m\u001b[1;33m(\u001b[0m\u001b[0mCommand\u001b[0m\u001b[1;33m.\u001b[0m\u001b[0mGET\u001b[0m\u001b[1;33m,\u001b[0m \u001b[1;33m{\u001b[0m\u001b[1;34m'url'\u001b[0m\u001b[1;33m:\u001b[0m \u001b[0murl\u001b[0m\u001b[1;33m}\u001b[0m\u001b[1;33m)\u001b[0m\u001b[1;33m\u001b[0m\u001b[1;33m\u001b[0m\u001b[0m\n\u001b[0m\u001b[0;32m    437\u001b[0m \u001b[1;33m\u001b[0m\u001b[0m\n\u001b[0;32m    438\u001b[0m     \u001b[1;33m@\u001b[0m\u001b[0mproperty\u001b[0m\u001b[1;33m\u001b[0m\u001b[1;33m\u001b[0m\u001b[0m\n",
      "\u001b[1;32mC:\\ProgramData\\Anaconda3\\envs\\pydatavenv\\lib\\site-packages\\selenium\\webdriver\\remote\\webdriver.py\u001b[0m in \u001b[0;36mexecute\u001b[1;34m(self, driver_command, params)\u001b[0m\n\u001b[0;32m    422\u001b[0m         \u001b[0mresponse\u001b[0m \u001b[1;33m=\u001b[0m \u001b[0mself\u001b[0m\u001b[1;33m.\u001b[0m\u001b[0mcommand_executor\u001b[0m\u001b[1;33m.\u001b[0m\u001b[0mexecute\u001b[0m\u001b[1;33m(\u001b[0m\u001b[0mdriver_command\u001b[0m\u001b[1;33m,\u001b[0m \u001b[0mparams\u001b[0m\u001b[1;33m)\u001b[0m\u001b[1;33m\u001b[0m\u001b[1;33m\u001b[0m\u001b[0m\n\u001b[0;32m    423\u001b[0m         \u001b[1;32mif\u001b[0m \u001b[0mresponse\u001b[0m\u001b[1;33m:\u001b[0m\u001b[1;33m\u001b[0m\u001b[1;33m\u001b[0m\u001b[0m\n\u001b[1;32m--> 424\u001b[1;33m             \u001b[0mself\u001b[0m\u001b[1;33m.\u001b[0m\u001b[0merror_handler\u001b[0m\u001b[1;33m.\u001b[0m\u001b[0mcheck_response\u001b[0m\u001b[1;33m(\u001b[0m\u001b[0mresponse\u001b[0m\u001b[1;33m)\u001b[0m\u001b[1;33m\u001b[0m\u001b[1;33m\u001b[0m\u001b[0m\n\u001b[0m\u001b[0;32m    425\u001b[0m             response['value'] = self._unwrap_value(\n\u001b[0;32m    426\u001b[0m                 response.get('value', None))\n",
      "\u001b[1;32mC:\\ProgramData\\Anaconda3\\envs\\pydatavenv\\lib\\site-packages\\selenium\\webdriver\\remote\\errorhandler.py\u001b[0m in \u001b[0;36mcheck_response\u001b[1;34m(self, response)\u001b[0m\n\u001b[0;32m    245\u001b[0m                 \u001b[0malert_text\u001b[0m \u001b[1;33m=\u001b[0m \u001b[0mvalue\u001b[0m\u001b[1;33m[\u001b[0m\u001b[1;34m'alert'\u001b[0m\u001b[1;33m]\u001b[0m\u001b[1;33m.\u001b[0m\u001b[0mget\u001b[0m\u001b[1;33m(\u001b[0m\u001b[1;34m'text'\u001b[0m\u001b[1;33m)\u001b[0m\u001b[1;33m\u001b[0m\u001b[1;33m\u001b[0m\u001b[0m\n\u001b[0;32m    246\u001b[0m             \u001b[1;32mraise\u001b[0m \u001b[0mexception_class\u001b[0m\u001b[1;33m(\u001b[0m\u001b[0mmessage\u001b[0m\u001b[1;33m,\u001b[0m \u001b[0mscreen\u001b[0m\u001b[1;33m,\u001b[0m \u001b[0mstacktrace\u001b[0m\u001b[1;33m,\u001b[0m \u001b[0malert_text\u001b[0m\u001b[1;33m)\u001b[0m  \u001b[1;31m# type: ignore[call-arg]  # mypy is not smart enough here\u001b[0m\u001b[1;33m\u001b[0m\u001b[1;33m\u001b[0m\u001b[0m\n\u001b[1;32m--> 247\u001b[1;33m         \u001b[1;32mraise\u001b[0m \u001b[0mexception_class\u001b[0m\u001b[1;33m(\u001b[0m\u001b[0mmessage\u001b[0m\u001b[1;33m,\u001b[0m \u001b[0mscreen\u001b[0m\u001b[1;33m,\u001b[0m \u001b[0mstacktrace\u001b[0m\u001b[1;33m)\u001b[0m\u001b[1;33m\u001b[0m\u001b[1;33m\u001b[0m\u001b[0m\n\u001b[0m\u001b[0;32m    248\u001b[0m \u001b[1;33m\u001b[0m\u001b[0m\n\u001b[0;32m    249\u001b[0m     \u001b[1;32mdef\u001b[0m \u001b[0m_value_or_default\u001b[0m\u001b[1;33m(\u001b[0m\u001b[0mself\u001b[0m\u001b[1;33m,\u001b[0m \u001b[0mobj\u001b[0m\u001b[1;33m:\u001b[0m \u001b[0mMapping\u001b[0m\u001b[1;33m[\u001b[0m\u001b[0m_KT\u001b[0m\u001b[1;33m,\u001b[0m \u001b[0m_VT\u001b[0m\u001b[1;33m]\u001b[0m\u001b[1;33m,\u001b[0m \u001b[0mkey\u001b[0m\u001b[1;33m:\u001b[0m \u001b[0m_KT\u001b[0m\u001b[1;33m,\u001b[0m \u001b[0mdefault\u001b[0m\u001b[1;33m:\u001b[0m \u001b[0m_VT\u001b[0m\u001b[1;33m)\u001b[0m \u001b[1;33m->\u001b[0m \u001b[0m_VT\u001b[0m\u001b[1;33m:\u001b[0m\u001b[1;33m\u001b[0m\u001b[1;33m\u001b[0m\u001b[0m\n",
      "\u001b[1;31mWebDriverException\u001b[0m: Message: chrome not reachable\n  (Session info: chrome=97.0.4692.71)\nStacktrace:\nBacktrace:\n\tOrdinal0 [0x0088FDC3+2555331]\n\tOrdinal0 [0x008277F1+2127857]\n\tOrdinal0 [0x00722CD0+1060048]\n\tOrdinal0 [0x00717BE2+1014754]\n\tOrdinal0 [0x007183E8+1016808]\n\tOrdinal0 [0x00719C02+1022978]\n\tOrdinal0 [0x00713AB9+998073]\n\tOrdinal0 [0x00724040+1065024]\n\tOrdinal0 [0x00776DC2+1404354]\n\tOrdinal0 [0x00767976+1341814]\n\tOrdinal0 [0x007436B6+1193654]\n\tOrdinal0 [0x00744546+1197382]\n\tGetHandleVerifier [0x00A29622+1619522]\n\tGetHandleVerifier [0x00AD882C+2336844]\n\tGetHandleVerifier [0x009223E1+541697]\n\tGetHandleVerifier [0x00921443+537699]\n\tOrdinal0 [0x0082D18E+2150798]\n\tOrdinal0 [0x00831518+2168088]\n\tOrdinal0 [0x00831660+2168416]\n\tOrdinal0 [0x0083B330+2208560]\n\tBaseThreadInitThunk [0x767FFA29+25]\n\tRtlGetAppContainerNamedObjectPath [0x77947A9E+286]\n\tRtlGetAppContainerNamedObjectPath [0x77947A6E+238]\n"
     ]
    }
   ],
   "source": [
    "# 앞 예제가 수행되는거 확인후에 실행\n",
    "driver.get('http://www.python.org/')"
   ]
  },
  {
   "cell_type": "code",
   "execution_count": 15,
   "metadata": {},
   "outputs": [
    {
     "name": "stdout",
     "output_type": "stream",
     "text": [
      "캡쳐 저장 완료\n"
     ]
    }
   ],
   "source": [
    "driver.get_screenshot_as_file('c:/Temp/python_main.png')\n",
    "print('캡쳐 저장 완료')\n",
    "import time\n",
    "time.sleep(5)\n",
    "driver.quit()"
   ]
  },
  {
   "cell_type": "code",
   "execution_count": 29,
   "metadata": {
    "tags": []
   },
   "outputs": [
    {
     "name": "stderr",
     "output_type": "stream",
     "text": [
      "\n",
      "\n",
      "====== WebDriver manager ======\n",
      "Current google-chrome version is 97.0.4692\n",
      "Get LATEST chromedriver version for 97.0.4692 google-chrome\n",
      "Driver [C:\\Users\\HPE\\.wdm\\drivers\\chromedriver\\win32\\97.0.4692.71\\chromedriver.exe] found in cache\n"
     ]
    },
    {
     "name": "stdout",
     "output_type": "stream",
     "text": [
      "캡쳐 저장 완료\n"
     ]
    }
   ],
   "source": [
    "from selenium import webdriver\n",
    "\n",
    "options = webdriver.ChromeOptions()\n",
    "options.add_argument('headless')\n",
    "options.add_argument('window-size=1920x1080')\n",
    "\n",
    "driver = webdriver.Chrome(service=Service(ChromeDriverManager().install()), options=options)\n",
    "\n",
    "driver.get('http://www.python.org/')\n",
    "driver.implicitly_wait(3)\n",
    "driver.get_screenshot_as_file('c:/Temp/python_main_headless.png')\n",
    "print('캡쳐 저장 완료')\n",
    "import time\n",
    "time.sleep(2)\n",
    "driver.quit()"
   ]
  },
  {
   "cell_type": "code",
   "execution_count": 30,
   "metadata": {},
   "outputs": [
    {
     "name": "stderr",
     "output_type": "stream",
     "text": [
      "\n",
      "\n",
      "====== WebDriver manager ======\n",
      "Current google-chrome version is 97.0.4692\n",
      "Get LATEST chromedriver version for 97.0.4692 google-chrome\n",
      "Driver [C:\\Users\\HPE\\.wdm\\drivers\\chromedriver\\win32\\97.0.4692.71\\chromedriver.exe] found in cache\n"
     ]
    },
    {
     "ename": "UnexpectedAlertPresentException",
     "evalue": "Alert Text: 해당 조건과 일치하는 매장 정보가 존재하지 않습니다.\nMessage: unexpected alert open: {Alert text : 해당 조건과 일치하는 매장 정보가 존재하지 않습니다.}\n  (Session info: chrome=97.0.4692.71)\nStacktrace:\nBacktrace:\n\tOrdinal0 [0x0088FDC3+2555331]\n\tOrdinal0 [0x008277F1+2127857]\n\tOrdinal0 [0x00722E08+1060360]\n\tOrdinal0 [0x0077743B+1406011]\n\tOrdinal0 [0x00767976+1341814]\n\tOrdinal0 [0x007436B6+1193654]\n\tOrdinal0 [0x00744546+1197382]\n\tGetHandleVerifier [0x00A29622+1619522]\n\tGetHandleVerifier [0x00AD882C+2336844]\n\tGetHandleVerifier [0x009223E1+541697]\n\tGetHandleVerifier [0x00921443+537699]\n\tOrdinal0 [0x0082D18E+2150798]\n\tOrdinal0 [0x00831518+2168088]\n\tOrdinal0 [0x00831660+2168416]\n\tOrdinal0 [0x0083B330+2208560]\n\tBaseThreadInitThunk [0x767FFA29+25]\n\tRtlGetAppContainerNamedObjectPath [0x77947A9E+286]\n\tRtlGetAppContainerNamedObjectPath [0x77947A6E+238]\n",
     "output_type": "error",
     "traceback": [
      "\u001b[1;31m---------------------------------------------------------------------------\u001b[0m",
      "\u001b[1;31mUnexpectedAlertPresentException\u001b[0m           Traceback (most recent call last)",
      "\u001b[1;32m~\\AppData\\Local\\Temp/ipykernel_7864/2397100696.py\u001b[0m in \u001b[0;36m<module>\u001b[1;34m\u001b[0m\n\u001b[0;32m      7\u001b[0m \u001b[1;32mimport\u001b[0m \u001b[0mtime\u001b[0m\u001b[1;33m\u001b[0m\u001b[1;33m\u001b[0m\u001b[0m\n\u001b[0;32m      8\u001b[0m \u001b[0mtime\u001b[0m\u001b[1;33m.\u001b[0m\u001b[0msleep\u001b[0m\u001b[1;33m(\u001b[0m\u001b[1;36m2\u001b[0m\u001b[1;33m)\u001b[0m\u001b[1;33m\u001b[0m\u001b[1;33m\u001b[0m\u001b[0m\n\u001b[1;32m----> 9\u001b[1;33m \u001b[0mloca\u001b[0m \u001b[1;33m=\u001b[0m \u001b[0mdriver\u001b[0m\u001b[1;33m.\u001b[0m\u001b[0mfind_element\u001b[0m\u001b[1;33m(\u001b[0m\u001b[0mBy\u001b[0m\u001b[1;33m.\u001b[0m\u001b[0mCLASS_NAME\u001b[0m\u001b[1;33m,\u001b[0m \u001b[1;34m'loca_search'\u001b[0m\u001b[1;33m)\u001b[0m\u001b[1;33m\u001b[0m\u001b[1;33m\u001b[0m\u001b[0m\n\u001b[0m\u001b[0;32m     10\u001b[0m \u001b[0mloca\u001b[0m\u001b[1;33m.\u001b[0m\u001b[0mclick\u001b[0m\u001b[1;33m(\u001b[0m\u001b[1;33m)\u001b[0m\u001b[1;33m\u001b[0m\u001b[1;33m\u001b[0m\u001b[0m\n\u001b[0;32m     11\u001b[0m \u001b[0mtime\u001b[0m\u001b[1;33m.\u001b[0m\u001b[0msleep\u001b[0m\u001b[1;33m(\u001b[0m\u001b[1;36m2\u001b[0m\u001b[1;33m)\u001b[0m\u001b[1;33m\u001b[0m\u001b[1;33m\u001b[0m\u001b[0m\n",
      "\u001b[1;32mC:\\ProgramData\\Anaconda3\\envs\\pydatavenv\\lib\\site-packages\\selenium\\webdriver\\remote\\webdriver.py\u001b[0m in \u001b[0;36mfind_element\u001b[1;34m(self, by, value)\u001b[0m\n\u001b[0;32m   1242\u001b[0m             \u001b[0mvalue\u001b[0m \u001b[1;33m=\u001b[0m \u001b[1;34m'[name=\"%s\"]'\u001b[0m \u001b[1;33m%\u001b[0m \u001b[0mvalue\u001b[0m\u001b[1;33m\u001b[0m\u001b[1;33m\u001b[0m\u001b[0m\n\u001b[0;32m   1243\u001b[0m \u001b[1;33m\u001b[0m\u001b[0m\n\u001b[1;32m-> 1244\u001b[1;33m         return self.execute(Command.FIND_ELEMENT, {\n\u001b[0m\u001b[0;32m   1245\u001b[0m             \u001b[1;34m'using'\u001b[0m\u001b[1;33m:\u001b[0m \u001b[0mby\u001b[0m\u001b[1;33m,\u001b[0m\u001b[1;33m\u001b[0m\u001b[1;33m\u001b[0m\u001b[0m\n\u001b[0;32m   1246\u001b[0m             'value': value})['value']\n",
      "\u001b[1;32mC:\\ProgramData\\Anaconda3\\envs\\pydatavenv\\lib\\site-packages\\selenium\\webdriver\\remote\\webdriver.py\u001b[0m in \u001b[0;36mexecute\u001b[1;34m(self, driver_command, params)\u001b[0m\n\u001b[0;32m    422\u001b[0m         \u001b[0mresponse\u001b[0m \u001b[1;33m=\u001b[0m \u001b[0mself\u001b[0m\u001b[1;33m.\u001b[0m\u001b[0mcommand_executor\u001b[0m\u001b[1;33m.\u001b[0m\u001b[0mexecute\u001b[0m\u001b[1;33m(\u001b[0m\u001b[0mdriver_command\u001b[0m\u001b[1;33m,\u001b[0m \u001b[0mparams\u001b[0m\u001b[1;33m)\u001b[0m\u001b[1;33m\u001b[0m\u001b[1;33m\u001b[0m\u001b[0m\n\u001b[0;32m    423\u001b[0m         \u001b[1;32mif\u001b[0m \u001b[0mresponse\u001b[0m\u001b[1;33m:\u001b[0m\u001b[1;33m\u001b[0m\u001b[1;33m\u001b[0m\u001b[0m\n\u001b[1;32m--> 424\u001b[1;33m             \u001b[0mself\u001b[0m\u001b[1;33m.\u001b[0m\u001b[0merror_handler\u001b[0m\u001b[1;33m.\u001b[0m\u001b[0mcheck_response\u001b[0m\u001b[1;33m(\u001b[0m\u001b[0mresponse\u001b[0m\u001b[1;33m)\u001b[0m\u001b[1;33m\u001b[0m\u001b[1;33m\u001b[0m\u001b[0m\n\u001b[0m\u001b[0;32m    425\u001b[0m             response['value'] = self._unwrap_value(\n\u001b[0;32m    426\u001b[0m                 response.get('value', None))\n",
      "\u001b[1;32mC:\\ProgramData\\Anaconda3\\envs\\pydatavenv\\lib\\site-packages\\selenium\\webdriver\\remote\\errorhandler.py\u001b[0m in \u001b[0;36mcheck_response\u001b[1;34m(self, response)\u001b[0m\n\u001b[0;32m    244\u001b[0m             \u001b[1;32melif\u001b[0m \u001b[1;34m'alert'\u001b[0m \u001b[1;32min\u001b[0m \u001b[0mvalue\u001b[0m\u001b[1;33m:\u001b[0m\u001b[1;33m\u001b[0m\u001b[1;33m\u001b[0m\u001b[0m\n\u001b[0;32m    245\u001b[0m                 \u001b[0malert_text\u001b[0m \u001b[1;33m=\u001b[0m \u001b[0mvalue\u001b[0m\u001b[1;33m[\u001b[0m\u001b[1;34m'alert'\u001b[0m\u001b[1;33m]\u001b[0m\u001b[1;33m.\u001b[0m\u001b[0mget\u001b[0m\u001b[1;33m(\u001b[0m\u001b[1;34m'text'\u001b[0m\u001b[1;33m)\u001b[0m\u001b[1;33m\u001b[0m\u001b[1;33m\u001b[0m\u001b[0m\n\u001b[1;32m--> 246\u001b[1;33m             \u001b[1;32mraise\u001b[0m \u001b[0mexception_class\u001b[0m\u001b[1;33m(\u001b[0m\u001b[0mmessage\u001b[0m\u001b[1;33m,\u001b[0m \u001b[0mscreen\u001b[0m\u001b[1;33m,\u001b[0m \u001b[0mstacktrace\u001b[0m\u001b[1;33m,\u001b[0m \u001b[0malert_text\u001b[0m\u001b[1;33m)\u001b[0m  \u001b[1;31m# type: ignore[call-arg]  # mypy is not smart enough here\u001b[0m\u001b[1;33m\u001b[0m\u001b[1;33m\u001b[0m\u001b[0m\n\u001b[0m\u001b[0;32m    247\u001b[0m         \u001b[1;32mraise\u001b[0m \u001b[0mexception_class\u001b[0m\u001b[1;33m(\u001b[0m\u001b[0mmessage\u001b[0m\u001b[1;33m,\u001b[0m \u001b[0mscreen\u001b[0m\u001b[1;33m,\u001b[0m \u001b[0mstacktrace\u001b[0m\u001b[1;33m)\u001b[0m\u001b[1;33m\u001b[0m\u001b[1;33m\u001b[0m\u001b[0m\n\u001b[0;32m    248\u001b[0m \u001b[1;33m\u001b[0m\u001b[0m\n",
      "\u001b[1;31mUnexpectedAlertPresentException\u001b[0m: Alert Text: 해당 조건과 일치하는 매장 정보가 존재하지 않습니다.\nMessage: unexpected alert open: {Alert text : 해당 조건과 일치하는 매장 정보가 존재하지 않습니다.}\n  (Session info: chrome=97.0.4692.71)\nStacktrace:\nBacktrace:\n\tOrdinal0 [0x0088FDC3+2555331]\n\tOrdinal0 [0x008277F1+2127857]\n\tOrdinal0 [0x00722E08+1060360]\n\tOrdinal0 [0x0077743B+1406011]\n\tOrdinal0 [0x00767976+1341814]\n\tOrdinal0 [0x007436B6+1193654]\n\tOrdinal0 [0x00744546+1197382]\n\tGetHandleVerifier [0x00A29622+1619522]\n\tGetHandleVerifier [0x00AD882C+2336844]\n\tGetHandleVerifier [0x009223E1+541697]\n\tGetHandleVerifier [0x00921443+537699]\n\tOrdinal0 [0x0082D18E+2150798]\n\tOrdinal0 [0x00831518+2168088]\n\tOrdinal0 [0x00831660+2168416]\n\tOrdinal0 [0x0083B330+2208560]\n\tBaseThreadInitThunk [0x767FFA29+25]\n\tRtlGetAppContainerNamedObjectPath [0x77947A9E+286]\n\tRtlGetAppContainerNamedObjectPath [0x77947A6E+238]\n"
     ]
    }
   ],
   "source": [
    "from selenium import webdriver\n",
    "\n",
    "driver = webdriver.Chrome(service=Service(ChromeDriverManager().install()))\n",
    "driver.implicitly_wait(3)\n",
    "\n",
    "driver.get(\"https://www.istarbucks.co.kr/store/store_map.do\")\n",
    "import time\n",
    "time.sleep(2)\n",
    "loca = driver.find_element(By.CLASS_NAME, 'loca_search')\n",
    "loca.click()\n",
    "time.sleep(2)\n",
    "f_link = driver.find_element(By.CSS_SELECTOR, \"div.loca_step1_cont > ul > li:nth-child(1) > a\")\n",
    "f_link.click()\n",
    "time.sleep(2)\n",
    "s_link = driver.find_element(By.CSS_SELECTOR, \"#mCSB_2_container > ul > li:nth-child(1) > a\")\n",
    "s_link.click()\n",
    "time.sleep(2)\n",
    "shopList = driver.find_elements(By.CSS_SELECTOR, \"#mCSB_3_container > ul > li\")\n",
    "\n",
    "temp_list = []\n",
    "time.sleep(3)\n",
    "count = 0\n",
    "total = len(shopList)\n",
    "print(total)\n",
    "for shop in shopList :    \n",
    "    count += 1\n",
    "    #print(count)\n",
    "    shoplat = shop.get_attribute(\"data-lat\")\n",
    "    shoplong = shop.get_attribute(\"data-long\")\n",
    "    shopname = shop.find_element(By.TAG_NAME, \"strong\")\n",
    "    shopinfo = shop.find_element(By.TAG_NAME, \"p\")\n",
    "    splitinfo = shopinfo.text.split('\\n')\n",
    "    if(len(splitinfo) == 2):\n",
    "        addr = splitinfo[0]\n",
    "        phonenum = splitinfo[1]\n",
    "    temp_list.append([shopname.text, shoplat, shoplong, addr, phonenum])\n",
    "    if count != total and count % 3 == 0:\n",
    "        driver.execute_script(\"var su = arguments[0]; var dom=document.querySelectorAll('#mCSB_3_container > ul > li')[su]; dom.scrollIntoView();\", count)\n",
    "with open('output/starbucks_shop.txt', \"wt\", encoding=\"utf-8\") as f:\n",
    "    for item in temp_list :\n",
    "        f.write(str(item)+'\\n')\n",
    "\n",
    "driver.quit()"
   ]
  },
  {
   "cell_type": "code",
   "execution_count": 31,
   "metadata": {},
   "outputs": [
    {
     "name": "stderr",
     "output_type": "stream",
     "text": [
      "\n",
      "\n",
      "====== WebDriver manager ======\n",
      "Current google-chrome version is 97.0.4692\n",
      "Get LATEST chromedriver version for 97.0.4692 google-chrome\n",
      "Driver [C:\\Users\\HPE\\.wdm\\drivers\\chromedriver\\win32\\97.0.4692.71\\chromedriver.exe] found in cache\n"
     ]
    }
   ],
   "source": [
    "#소스1\n",
    "from selenium import webdriver\n",
    "from selenium.webdriver.common.keys import Keys \n",
    "\n",
    "driver = webdriver.Chrome(service=Service(ChromeDriverManager().install()))\n",
    "driver.implicitly_wait(3)\n",
    "driver.get('https://map.naver.com/') \n",
    "import time\n",
    "time.sleep(2)\n",
    "\n",
    "target=driver.find_element(By.CSS_SELECTOR, \".input_search\")\n",
    "\n",
    "target.send_keys('서울시어린이도서관')\n",
    "target.send_keys(Keys.ENTER)"
   ]
  },
  {
   "cell_type": "code",
   "execution_count": 32,
   "metadata": {},
   "outputs": [
    {
     "name": "stdout",
     "output_type": "stream",
     "text": [
      "국립어린이청소년도서관, 도서관\n",
      "서울특별시교육청 어린이도서관, 어린이도서관\n",
      "송파 어린이영어 작은도서관, 어린이도서관\n",
      "노원어린이도서관, 어린이도서관\n",
      "송파어린이도서관, 어린이도서관\n",
      "꿈꾸는어린이도서관, 어린이도서관\n",
      "대방어린이도서관, 어린이도서관\n",
      "손기정어린이도서관, 어린이도서관\n",
      "마포어린이영어도서관, 어린이도서관\n",
      "도봉아이나라도서관, 어린이도서관\n",
      "------------------------------------------------\n",
      "이문어린이도서관, 어린이도서관\n",
      "꿈나무어린이도서관, 어린이도서관\n",
      "꿈나무어린이서점, 어린이도서관\n",
      "은평구립도서관 어린이열람실, 어린이도서관\n",
      "까망돌어린이도서관, 도서관\n",
      "강북교육문화원어린이도서관, 어린이도서관\n",
      "몬스터도서관, 어린이도서관\n",
      "고척교회어린이도서관책마을, 어린이도서관\n",
      "이마트키즈라이브러리 2호관, 어린이도서관\n",
      "숲속꿈나무어린이도서관, 어린이도서관\n",
      "------------------------------------------------\n",
      "삼각산어린이도서관, 도서관\n",
      "이문체육문화센터 어린이도서관, 도서관\n",
      "신사어린이도서관, 도서관\n",
      "꿈이있는어린이도서관, 도서관\n",
      "서강어린이영어도서관, 도서관\n",
      "옹달샘어린이도서관, 도서관\n",
      "곰세마리 어린이 도서관, 도서관\n",
      "은평어린이영어도서관, 도서관\n",
      "어린이도서관 느티나무, 도서관\n",
      "어린이도서관 동네북, 도서관\n",
      "------------------------------------------------\n",
      "영등포본동 공립작은도서관, 도서관\n",
      "영등포동 공립작은도서관, 도서관\n",
      "신길5동꿈터마을도서관, 도서관\n",
      "서울숲옆다루작은도서관, 도서관\n",
      "아띠 작은도서관, 도서관\n",
      "돌리네책빵, 도서관\n",
      "영등포2동새마을문고, 도서관\n",
      "아름숲 작은도서관, 도서관\n",
      "마을작은도서관 누리마루, 도서관\n",
      "어린이도서관, 경로당,노인정\n",
      "------------------------------------------------\n",
      "추출되는 도서관이 더 이상 없슈\n",
      "스크래핑 종료\n"
     ]
    }
   ],
   "source": [
    "time.sleep(2)\n",
    "driver.switch_to.frame(\"searchIframe\") \n",
    "while True :    \n",
    "    names = driver.find_elements(By.CSS_SELECTOR, \"span._3Apve\")\n",
    "    addrs = driver.find_elements(By.CSS_SELECTOR, \"span._3B6hV\")\n",
    "    if len(names) == 0 :\n",
    "        print(\"추출되는 도서관이 더 이상 없슈\")\n",
    "        break\n",
    "    for i in range(len(names)) :\n",
    "        print(names[i].text,addrs[i].text, sep=\", \", end=\"\\n\")\n",
    "    print(\"------------------------------------------------\")\n",
    "    linkurl = '#app-root > div > div > div._2ky45 > a:nth-child(7)'\n",
    "    try :\n",
    "        linkNum = driver.find_element(By.CSS_SELECTOR, linkurl)\n",
    "    except :\n",
    "        print(\"더 이상 다음 페이지 없음\")\n",
    "        break\n",
    "    linkNum.click()  \n",
    "    time.sleep(5)\n",
    "print(\"스크래핑 종료\")\n",
    "driver.quit()"
   ]
  },
  {
   "cell_type": "code",
   "execution_count": 34,
   "metadata": {},
   "outputs": [
    {
     "name": "stderr",
     "output_type": "stream",
     "text": [
      "\n",
      "\n",
      "====== WebDriver manager ======\n",
      "Current google-chrome version is 97.0.4692\n",
      "Get LATEST chromedriver version for 97.0.4692 google-chrome\n",
      "Driver [C:\\Users\\HPE\\.wdm\\drivers\\chromedriver\\win32\\97.0.4692.71\\chromedriver.exe] found in cache\n"
     ]
    },
    {
     "name": "stdout",
     "output_type": "stream",
     "text": [
      "스크롤 : 9\n",
      "스크롤 : 19\n",
      "스크롤 : 29\n",
      "스크롤 : 39\n",
      "스크롤 : 49\n",
      "스크롤 : 59\n",
      "국립어린이청소년도서관, 도서관\n",
      "서울특별시교육청 어린이도서관, 어린이도서관\n",
      "송파 어린이영어 작은도서관, 어린이도서관\n",
      "노원어린이도서관, 어린이도서관\n",
      "송파어린이도서관, 어린이도서관\n",
      "꿈꾸는어린이도서관, 어린이도서관\n",
      "대방어린이도서관, 어린이도서관\n",
      "손기정어린이도서관, 어린이도서관\n",
      "마포어린이영어도서관, 어린이도서관\n",
      "도봉아이나라도서관, 어린이도서관\n",
      "중랑숲어린이도서관, 어린이도서관\n",
      "글마루한옥어린이도서관, 어린이도서관\n",
      "동작어린이도서관, 어린이도서관\n",
      "못골한옥어린이도서관, 어린이도서관\n",
      "구로구립개봉어린이도서관, 어린이도서관\n",
      "길꽃어린이도서관, 어린이도서관\n",
      "용두어린이영어도서관, 어린이도서관\n",
      "장안어린이도서관, 어린이도서관\n",
      "통인 어린이 작은도서관, 도서관\n",
      "구로구립궁동어린이도서관, 어린이도서관\n",
      "꿈나래어린이영어도서관, 어린이도서관\n",
      "도봉기적의도서관, 어린이도서관\n",
      "구로 꿈나무어린이도서관, 어린이도서관\n",
      "소나무언덕1호 작은도서관, 도서관\n",
      "어깨동무 어린이 도서관, 어린이도서관\n",
      "키즈스토리랜드위디딧, 어린이도서관\n",
      "책읽는엄마 책읽는아이, 어린이도서관\n",
      "키즈니영어도서관, 어린이도서관\n",
      "아리랑어린이도서관, 어린이도서관\n",
      "남산타운문화체육센터 어린이도서관, 어린이도서관\n",
      "백련산 어린이도서관, 어린이도서관\n",
      "마포푸르메어린이도서관, 어린이도서관\n",
      "맑은물어린이전문도서관, 어린이도서관\n",
      "하늘샘어린이도서관, 도서관\n",
      "용암어린이영어도서관, 어린이도서관\n",
      "북트리 책읽어주는 도서관, 어린이도서관\n",
      "위례 SR키즈 영어도서관, 어린이도서관\n",
      "해맞이장난감도서관, 어린이도서관\n",
      "꿈 익는 책마을, 어린이도서관\n",
      "아차산아래 작은도서관 놀자, 도서관\n",
      "반딧불어린이도서관, 어린이도서관\n",
      "인표어린이도서관, 어린이도서관\n",
      "꿈나무영유아도서관, 어린이도서관\n",
      "꿈나무어린이도서관, 어린이도서관\n",
      "장안꿈마루어린이 작은도서관, 어린이도서관\n",
      "루디아어린이영어도서관, 어린이도서관\n",
      "다섯콩작은도서관, 도서관\n",
      "나들목가족도서관, 도서관\n",
      "보들리안 영어독서, 어린이도서관\n",
      "중화어린이도서관, 어린이도서관\n",
      "------------------------------------------------\n",
      "스크롤 : 9\n",
      "스크롤 : 19\n",
      "스크롤 : 29\n",
      "스크롤 : 39\n",
      "스크롤 : 49\n",
      "스크롤 : 59\n",
      "이문어린이도서관, 어린이도서관\n",
      "꿈나무어린이도서관, 어린이도서관\n",
      "꿈나무어린이서점, 어린이도서관\n",
      "은평구립도서관 어린이열람실, 어린이도서관\n",
      "까망돌어린이도서관, 도서관\n",
      "강북교육문화원어린이도서관, 어린이도서관\n",
      "몬스터도서관, 어린이도서관\n",
      "고척교회어린이도서관책마을, 어린이도서관\n",
      "이마트키즈라이브러리 2호관, 어린이도서관\n",
      "숲속꿈나무어린이도서관, 어린이도서관\n",
      "남가좌새롬어린이도서관, 도서관\n",
      "느티나무어린이도서관, 어린이도서관\n",
      "꿈나무마을책놀이방, 어린이도서관\n",
      "다문화어린이작은책마루이음, 어린이도서관\n",
      "아이리드, 어린이도서관\n",
      "청파어린이영어도서관, 도서관\n",
      "녹색장난감도서관, 전문도서관\n",
      "물댄동산어린이도서관, 어린이도서관\n",
      "어린이도서관책고리, 어린이도서관\n",
      "도담도담어린이도서관, 어린이도서관\n",
      "영어도서관 리딩플라이, 어린이도서관\n",
      "씽크엘작은도서관, 어린이도서관\n",
      "스토리빈 작은도서관, 도서관\n",
      "성동구다문화어린이도서관, 어린이도서관\n",
      "꿈터마을 작은도서관, 도서관\n",
      "다문화어린이도서관 모두, 어린이도서관\n",
      "무수골도서관, 어린이도서관\n",
      "어린이와작은도서관협회, 어린이도서관\n",
      "어린이보물찾기도서관, 어린이도서관\n",
      "환원어린이작은도서관, 도서관\n",
      "우리동네글방, 어린이도서관\n",
      "래미안상도3차 어린이문고, 어린이도서관\n",
      "어린이도서연구회, 어린이도서관\n",
      "새날도서관, 도서관\n",
      "바름, 어린이도서관\n",
      "꿈마루어린이도서관, 도서관\n",
      "문화촌어린이도서관, 도서관\n",
      "빛어린이도서관, 도서관\n",
      "작은 도서관 함께놀자, 어린이도서관\n",
      "구립대조꿈나무 어린이도서관, 도서관\n",
      "북마크 어린이도서관, 도서관\n",
      "신사2동 책사랑방, 어린이도서관\n",
      "옐로우트리모자방, 어린이도서관\n",
      "성대골어린이도서관, 도서관\n",
      "어린이도서관 꿈틀, 도서관\n",
      "동대문구립휘경어린이도서관, 도서관\n",
      "은행나무어린이도서관, 도서관\n",
      "좋은친구어린이도서관, 도서관\n",
      "어깨동무어린이도서관, 도서관\n",
      "두껍아두껍아 어린이도서관, 도서관\n",
      "------------------------------------------------\n",
      "스크롤 : 9\n",
      "스크롤 : 19\n",
      "스크롤 : 29\n",
      "스크롤 : 39\n",
      "스크롤 : 49\n",
      "스크롤 : 59\n",
      "삼각산어린이도서관, 도서관\n",
      "이문체육문화센터 어린이도서관, 도서관\n",
      "신사어린이도서관, 도서관\n",
      "꿈이있는어린이도서관, 도서관\n",
      "서강어린이영어도서관, 도서관\n",
      "옹달샘어린이도서관, 도서관\n",
      "곰세마리 어린이 도서관, 도서관\n",
      "은평어린이영어도서관, 도서관\n",
      "어린이도서관 느티나무, 도서관\n",
      "어린이도서관 동네북, 도서관\n",
      "푸른나래어린이도서관, 도서관\n",
      "쪼물왕국어린이도서관, 도서관\n",
      "서초어린이책마을, 도서관\n",
      "어린이청소년국학도서관, 도서관\n",
      "나무와 열매 어린이 도서관, 도서관\n",
      "주영광 어린이도서관, 도서관\n",
      "산돌어린이도서관, 도서관\n",
      "삼청교회어린이도서관 꿈과쉼, 도서관\n",
      "새로운어린이도서관, 도서관\n",
      "원천어린이도서관, 도서관\n",
      "어린이도서관꿈꾸는세상, 도서관\n",
      "강서성결어린이도서관, 도서관\n",
      "다모아어린이도서관, 도서관\n",
      "백합어린이도서관, 도서관\n",
      "서문어린이도서관, 도서관\n",
      "서울특별시립강남도서관 어린이실, 도서관\n",
      "명지어린이영어도서관, 도서관\n",
      "금호4가동 주민센터어린이작은도서관, 도서관\n",
      "어린이아뜰리에, 도서관\n",
      "성수2가제1동 어린이작은도서관, 도서관\n",
      "풍성한 어린이 영어작은 도서관, 도서관\n",
      "응봉동 어린이 작은도서관, 도서관\n",
      "행당2동 어린이 작은도서관, 도서관\n",
      "신도림 월드메르디앙 어린이 작은도서관, 도서관\n",
      "어린이 작은도서관 주영심 나무, 도서관\n",
      "금호2 3가어린이작은도서관, 도서관\n",
      "꿈씨 어린이 작은도서관, 도서관\n",
      "도봉어린이문화정보센터, 도서관\n",
      "금호1가동어린이작은도서관, 도서관\n",
      "용답동 어린이작은도서관, 도서관\n",
      "석천문화관, 공연장\n",
      "소망의나무어린이작은도서관, 도서관\n",
      "하늘어린이문고, 도서관\n",
      "사근동 어린이놀이터도서관, 도서관\n",
      "강서제일어린이문고, 도서관\n",
      "하예성 어린이문고, 도서관\n",
      "광진정보도서관, 군구립도서관\n",
      "신길6동 공립작은도서관, 도서관\n",
      "여의동 공립작은도서관, 도서관\n",
      "양평2동 공립작은도서관, 도서관\n",
      "------------------------------------------------\n",
      "스크롤 : 9\n",
      "스크롤 : 19\n",
      "스크롤 : 29\n",
      "스크롤 : 39\n",
      "스크롤 : 49\n",
      "영등포본동 공립작은도서관, 도서관\n",
      "영등포동 공립작은도서관, 도서관\n",
      "신길5동꿈터마을도서관, 도서관\n",
      "서울숲옆다루작은도서관, 도서관\n",
      "아띠 작은도서관, 도서관\n",
      "돌리네책빵, 도서관\n",
      "영등포2동새마을문고, 도서관\n",
      "아름숲 작은도서관, 도서관\n",
      "마을작은도서관 누리마루, 도서관\n",
      "어린이도서관, 경로당,노인정\n",
      "쁘띠몽드 마포중앙도서관점, 키즈카페,실내놀이터\n",
      "대조동꿈나무어린이도서관여성안심택배함, 부속건물\n",
      "송파어린이도서관무인민원발급기, 공공,행정시설\n",
      "서부제일교회어린이도서관여성안심택배함, 부속건물\n",
      "꿈마루어린이도서관앞자전거대여소, 자전거\n",
      "길꽃어린이도서관 여성안심택배함, 부속건물\n",
      "서울시립어린이도서관장애인용승강기, 장애인편의시설\n",
      "어린이도서관 개방화장실, 화장실\n",
      "꿈꾸는어린이도서관 개방화장실, 화장실\n",
      "국립중앙도서관책사랑어린이집, 어린이집\n",
      "송파어린이도서관 개방화장실, 화장실\n",
      "대방어린이도서관 개방화장실, 화장실\n",
      "송파어린이도서관 한파쉼터, 한파쉼터\n",
      "리더스하이영어도서관, 영어교육\n",
      "토리영어도서관, 영어교육\n",
      "송파어린이영어작은도서관 개방화장실, 화장실\n",
      "점프업, 키즈카페,실내놀이터\n",
      "리드101 목동 1캠퍼스, 영어교육\n",
      "더 클래스 영어교실, 영어교육\n",
      "서초구방배영어센터, 영어교육\n",
      "시흥글로벌인재학당, 영어교육\n",
      "꿈꾸는도서관, 컴퓨터프로그래밍,정보서비스업\n",
      "리딩오션스, 영어교육\n",
      "TLC, 영어교육\n",
      "이노블스 목동직영점, 영어학원\n",
      "리틀소호 송파위례점, 아동도서\n",
      "이노블스 대치직영점, 영어학원\n",
      "해오름, 논술\n",
      "주식회사 인굿디자인, 인테리어디자인\n",
      "신비, 인터넷상거래\n",
      "------------------------------------------------\n",
      "스크롤 : 9\n",
      "추출되는 도서관이 더 이상 없슈\n",
      "스크래핑 종료\n"
     ]
    }
   ],
   "source": [
    "#소스2\n",
    "from selenium import webdriver\n",
    "from selenium.webdriver.common.keys import Keys \n",
    "\n",
    "driver = webdriver.Chrome(service=Service(ChromeDriverManager().install()))\n",
    "driver.implicitly_wait(3)\n",
    "driver.get('https://map.naver.com/') \n",
    "import time\n",
    "time.sleep(2)\n",
    "\n",
    "target=driver.find_element(By.CSS_SELECTOR, \".input_search\")\n",
    "\n",
    "target.send_keys('서울시어린이도서관')\n",
    "target.send_keys(Keys.ENTER)\n",
    "\n",
    "time.sleep(2)\n",
    "driver.switch_to.frame(\"searchIframe\")\n",
    "while True :\n",
    "    count = 9\n",
    "    while True :\n",
    "        print(\"스크롤 : \" +str(count))\n",
    "        try :\n",
    "            driver.execute_script(\"var su = arguments[0]; var dom=document.querySelectorAll('#_pcmap_list_scroll_container>ul>li')[su]; dom.scrollIntoView();\", count)\n",
    "            time.sleep(2)\n",
    "        except :        \n",
    "            break\n",
    "        count += 10\n",
    "    names = driver.find_elements(By.CSS_SELECTOR, \"span._3Apve\")\n",
    "    addrs = driver.find_elements(By.CSS_SELECTOR, \"span._3B6hV\")\n",
    "    if len(names) == 0 :\n",
    "        print(\"추출되는 도서관이 더 이상 없슈\")\n",
    "        break\n",
    "    for i in range(len(names)) :\n",
    "        print(names[i].text,addrs[i].text, sep=\", \", end=\"\\n\")\n",
    "    print(\"------------------------------------------------\")\n",
    "    linkurl = '#app-root > div > div > div._2ky45 > a:nth-child(7)'\n",
    "    try :\n",
    "        linkNum = driver.find_element(By.CSS_SELECTOR, linkurl)\n",
    "    except :\n",
    "        print(\"더 이상 다음 페이지 없음\")\n",
    "        break\n",
    "    linkNum.click()  \n",
    "    time.sleep(5)\n",
    "print(\"스크래핑 종료\")\n",
    "\n",
    "driver.quit()"
   ]
  },
  {
   "cell_type": "code",
   "execution_count": null,
   "metadata": {},
   "outputs": [],
   "source": []
  }
 ],
 "metadata": {
  "kernelspec": {
   "display_name": "pydatavenv",
   "language": "python",
   "name": "pydatavenv"
  },
  "language_info": {
   "codemirror_mode": {
    "name": "ipython",
    "version": 3
   },
   "file_extension": ".py",
   "mimetype": "text/x-python",
   "name": "python",
   "nbconvert_exporter": "python",
   "pygments_lexer": "ipython3",
   "version": "3.8.12"
  }
 },
 "nbformat": 4,
 "nbformat_minor": 4
}
