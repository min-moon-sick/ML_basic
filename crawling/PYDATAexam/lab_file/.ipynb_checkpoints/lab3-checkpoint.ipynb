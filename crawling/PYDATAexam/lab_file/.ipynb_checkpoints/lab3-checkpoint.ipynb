{
 "cells": [
  {
   "cell_type": "code",
   "execution_count": 59,
   "id": "dba13a1c-0a4d-4909-9ed4-728ba36ddce9",
   "metadata": {},
   "outputs": [],
   "source": [
    "from bs4 import BeautifulSoup\n",
    "import requests\n",
    "import pandas as pd"
   ]
  },
  {
   "cell_type": "code",
   "execution_count": 69,
   "id": "9c821756-9454-4912-bf9b-ae591d3acd04",
   "metadata": {},
   "outputs": [],
   "source": [
    "url = 'http://media.daum.net/ranking/popular/'\n",
    "\n",
    "req_url = requests.get(url)\n",
    "\n",
    "bs = BeautifulSoup(req_url.text, 'html.parser')\n",
    "\n",
    "# chrome에서 copy selector를 활용\n",
    "article_list = bs.select('strong.tit_thumb > a.link_txt')\n",
    "article_company = bs.select('strong.tit_thumb >span.info_news')\n",
    "\n",
    "title = []\n",
    "atc_company = []\n",
    "\n",
    "for i in range(min(len(article_company), len(article_name))):\n",
    "    title.append(article_name[i].text)\n",
    "    atc_company.append(article_company[i].text)\n",
    "\n",
    "df = pd.DataFrame({'number' : range(1, len(title) + 1), 'title' : title, 'company' : atc_company})\n",
    "df.set_index('number', inplace=True)\n",
    "\n",
    "df\n",
    "df.to_csv('C:\\\\Users\\\\HPE\\\\Documents\\\\machine_learning_basic\\\\PYDATAexam\\\\output\\\\news.csv', 'w')"
   ]
  },
  {
   "cell_type": "code",
   "execution_count": null,
   "id": "62a7bb9e-1cba-4e97-b2d3-2591c4e89edd",
   "metadata": {},
   "outputs": [],
   "source": []
  }
 ],
 "metadata": {
  "kernelspec": {
   "display_name": "pydatavenv",
   "language": "python",
   "name": "pydatavenv"
  },
  "language_info": {
   "codemirror_mode": {
    "name": "ipython",
    "version": 3
   },
   "file_extension": ".py",
   "mimetype": "text/x-python",
   "name": "python",
   "nbconvert_exporter": "python",
   "pygments_lexer": "ipython3",
   "version": "3.8.12"
  }
 },
 "nbformat": 4,
 "nbformat_minor": 5
}
